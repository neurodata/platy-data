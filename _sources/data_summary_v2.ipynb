{
 "cells": [
  {
   "cell_type": "markdown",
   "id": "a9ec28bc",
   "metadata": {},
   "source": [
    "## Data Summary Notebook"
   ]
  },
  {
   "cell_type": "markdown",
   "id": "6e37aa07",
   "metadata": {},
   "source": [
    "In this notebook we seek to extract data from the Platynereis Larva Dumerilii Connectome and categorize the data in a way that will allow us to easily plot meaningful statistics of the dataset"
   ]
  },
  {
   "cell_type": "code",
   "execution_count": 13,
   "id": "851698a7",
   "metadata": {},
   "outputs": [],
   "source": [
    "import pymaid\n",
    "import numpy as np\n",
    "import matplotlib.pyplot as plt\n",
    "import pandas as pd\n",
    "import seaborn as sns\n",
    "import logging\n",
    "import collections\n",
    "from itertools import chain, combinations"
   ]
  },
  {
   "cell_type": "markdown",
   "id": "b22d12b0",
   "metadata": {},
   "source": [
    "We start by first using pymaid to extract the dataset"
   ]
  },
  {
   "cell_type": "code",
   "execution_count": 3,
   "id": "8d7ad64f",
   "metadata": {},
   "outputs": [
    {
     "name": "stderr",
     "output_type": "stream",
     "text": [
      "INFO  : Global CATMAID instance set. Caching is ON. (pymaid)\n"
     ]
    }
   ],
   "source": [
    "rm = pymaid.CatmaidInstance(\n",
    "    server=\"https://catmaid.jekelylab.ex.ac.uk/#\",\n",
    "    project_id=11,\n",
    "    api_token=None,\n",
    "    http_user=None,\n",
    "    http_password=None,\n",
    ")\n",
    "logging.getLogger(\"pymaid\").setLevel(logging.WARNING)\n",
    "pymaid.clear_cache()\n",
    "path = \"/Users/kareefullah/Desktop/neurodata/neurodata/platy-data/docs/outputs\""
   ]
  },
  {
   "cell_type": "markdown",
   "id": "fa46b5ea",
   "metadata": {},
   "source": [
    "The following function takes in a list of annotations that the cells could be annotated with, and returns a pandas series: indices represent the skeleton ids of all the cells that have one of the annotations in the annotation list, and the values are an indicator of the annotion the respective cell has\n",
    "\n",
    "The annot_lists that are allowed are:  \n",
    "side: `[\"left\", \"right\", \"center\"]`  \n",
    "class: `[\"Sensory neuron\", \"interneuron\", \"motorneuron\"]`  \n",
    "segment: `[\"segment_0\", \"segment_1\", \"segment_2\", \"segment_3\", \"head\", \"pygidium\"]`    \n",
    "type: `[\"celltype1\", \"celltype2\", ... \"celltype180\"]`    \n",
    "group: `[\"cellgroup1\", \"cellgroup2\", ... \"cellgroup18\"]`  \n",
    "\n",
    "category can be `\"side\"` or `\"class\"` or `\"segment\"` or `\"type\"` or `\"group\"`"
   ]
  },
  {
   "cell_type": "code",
   "execution_count": 4,
   "id": "781af822",
   "metadata": {},
   "outputs": [],
   "source": [
    "def get_labels_from_annotation(annot_list, category=\"side\"):\n",
    "    all_ids = pymaid.get_skids_by_annotation(annot_list)\n",
    "    id_annot = []\n",
    "\n",
    "    if category == \"type\" or category == \"group\":\n",
    "        for annot in annot_list:\n",
    "            ids = pymaid.get_skids_by_annotation(annot)\n",
    "            for id in ids:\n",
    "                if id in all_ids:\n",
    "                    all_ids.remove(id)\n",
    "                    if category == \"type\":\n",
    "                        label = annot.split(\"celltype\")[1]\n",
    "                    else:\n",
    "                        label = annot.split(\"cellgroup\")[1]\n",
    "                    id_annot.append([id, label])\n",
    "\n",
    "    # power set of annot_list reversed: first look at the intersections within annot_list then singular entries\n",
    "    elif category == \"side\" or category == \"class\" or category == \"segment\":\n",
    "        annot_power = list(\n",
    "            chain.from_iterable(\n",
    "                combinations(annot_list, r) for r in range(len(annot_list) + 1)\n",
    "            )\n",
    "        )\n",
    "        annot_power.reverse()\n",
    "\n",
    "        for annots in annot_power:\n",
    "\n",
    "            # skip the empty set in the power set\n",
    "            if len(annots) != 0:\n",
    "                ids = pymaid.get_skids_by_annotation(annots, intersect=True)\n",
    "\n",
    "                # assign label to every id\n",
    "                for id in ids:\n",
    "                    if id in all_ids:\n",
    "                        # make sure cannot find id again if it is already added to id_list\n",
    "                        all_ids.remove(id)\n",
    "                        label = \"\"\n",
    "                        for annot in annots:\n",
    "                            if category == \"side\":\n",
    "                                label += annot[0]\n",
    "                            elif category == \"class\":\n",
    "                                label += annot[0].lower()\n",
    "                            elif category == \"segment\":\n",
    "                                if annot[0] == \"s\":\n",
    "                                    label += annot[-1]\n",
    "                                else:\n",
    "                                    label += annot\n",
    "                            else:\n",
    "                                raise ValueError(\"category is invalid\")\n",
    "                        id_annot.append([id, label])\n",
    "\n",
    "    else:\n",
    "        raise ValueError(\"category is invalid\")\n",
    "\n",
    "    id_annot = np.array(id_annot)\n",
    "\n",
    "    ids = id_annot[:, 0]\n",
    "    annots = id_annot[:, 1]\n",
    "    return pd.Series(index=ids, data=annots, name=category)\n"
   ]
  },
  {
   "cell_type": "markdown",
   "id": "5e094e55",
   "metadata": {},
   "source": [
    "Here we make the table of annotations by making our annotation lists and making our pandas series for the five lists we have chosen. We then concatenate the series together to make a dataframe, which is our table."
   ]
  },
  {
   "cell_type": "code",
   "execution_count": 38,
   "id": "640ae99f",
   "metadata": {},
   "outputs": [
    {
     "data": {
      "application/vnd.jupyter.widget-view+json": {
       "model_id": "",
       "version_major": 2,
       "version_minor": 0
      },
      "text/plain": [
       "Fetching:   0%|          | 0/3 [00:00<?, ?it/s]"
      ]
     },
     "metadata": {},
     "output_type": "display_data"
    },
    {
     "data": {
      "application/vnd.jupyter.widget-view+json": {
       "model_id": "",
       "version_major": 2,
       "version_minor": 0
      },
      "text/plain": [
       "Fetching:   0%|          | 0/3 [00:00<?, ?it/s]"
      ]
     },
     "metadata": {},
     "output_type": "display_data"
    },
    {
     "data": {
      "application/vnd.jupyter.widget-view+json": {
       "model_id": "",
       "version_major": 2,
       "version_minor": 0
      },
      "text/plain": [
       "Fetching:   0%|          | 0/6 [00:00<?, ?it/s]"
      ]
     },
     "metadata": {},
     "output_type": "display_data"
    },
    {
     "data": {
      "application/vnd.jupyter.widget-view+json": {
       "model_id": "",
       "version_major": 2,
       "version_minor": 0
      },
      "text/plain": [
       "Fetching:   0%|          | 0/180 [00:00<?, ?it/s]"
      ]
     },
     "metadata": {},
     "output_type": "display_data"
    },
    {
     "data": {
      "application/vnd.jupyter.widget-view+json": {
       "model_id": "",
       "version_major": 2,
       "version_minor": 0
      },
      "text/plain": [
       "Fetching:   0%|          | 0/18 [00:00<?, ?it/s]"
      ]
     },
     "metadata": {},
     "output_type": "display_data"
    }
   ],
   "source": [
    "side_list = [\"left\", \"right\", \"center\"]\n",
    "class_list = [\"Sensory neuron\", \"interneuron\", \"motorneuron\"]\n",
    "segment_list = [\"segment_0\", \"segment_1\", \"segment_2\", \"segment_3\", \"head\", \"pygidium\"]\n",
    "type_list = []\n",
    "for i in range(1, 181):\n",
    "    type_list.append(\"celltype{}\".format(i))\n",
    "\n",
    "group_list = []\n",
    "for j in range(1, 19):\n",
    "    group_list.append(\"cellgroup{}\".format(j))\n",
    "    \n",
    "side_labels = get_labels_from_annotation(side_list, category=\"side\")\n",
    "class_labels = get_labels_from_annotation(class_list, category=\"class\")\n",
    "segment_labels = get_labels_from_annotation(segment_list, category=\"segment\")\n",
    "type_labels = get_labels_from_annotation(type_list, category=\"type\")\n",
    "group_labels = get_labels_from_annotation(group_list, category=\"group\")\n",
    "\n",
    "series_ids = [side_labels, class_labels, segment_labels, type_labels, group_labels]\n",
    "annotations = pd.concat(series_ids, axis=1, ignore_index=False, names=\"ID\").fillna(\n",
    "    \"N/A\"\n",
    ")"
   ]
  },
  {
   "cell_type": "code",
   "execution_count": 6,
   "id": "9b267929",
   "metadata": {},
   "outputs": [
    {
     "data": {
      "text/html": [
       "<div>\n",
       "<style scoped>\n",
       "    .dataframe tbody tr th:only-of-type {\n",
       "        vertical-align: middle;\n",
       "    }\n",
       "\n",
       "    .dataframe tbody tr th {\n",
       "        vertical-align: top;\n",
       "    }\n",
       "\n",
       "    .dataframe thead th {\n",
       "        text-align: right;\n",
       "    }\n",
       "</style>\n",
       "<table border=\"1\" class=\"dataframe\">\n",
       "  <thead>\n",
       "    <tr style=\"text-align: right;\">\n",
       "      <th></th>\n",
       "      <th>side</th>\n",
       "      <th>class</th>\n",
       "      <th>segment</th>\n",
       "      <th>type</th>\n",
       "      <th>group</th>\n",
       "    </tr>\n",
       "  </thead>\n",
       "  <tbody>\n",
       "    <tr>\n",
       "      <th>1343291</th>\n",
       "      <td>rc</td>\n",
       "      <td>N/A</td>\n",
       "      <td>head</td>\n",
       "      <td>N/A</td>\n",
       "      <td>N/A</td>\n",
       "    </tr>\n",
       "    <tr>\n",
       "      <th>1332516</th>\n",
       "      <td>rc</td>\n",
       "      <td>s</td>\n",
       "      <td>head</td>\n",
       "      <td>49</td>\n",
       "      <td>N/A</td>\n",
       "    </tr>\n",
       "    <tr>\n",
       "      <th>1402724</th>\n",
       "      <td>rc</td>\n",
       "      <td>N/A</td>\n",
       "      <td>3</td>\n",
       "      <td>N/A</td>\n",
       "      <td>N/A</td>\n",
       "    </tr>\n",
       "    <tr>\n",
       "      <th>1462664</th>\n",
       "      <td>rc</td>\n",
       "      <td>N/A</td>\n",
       "      <td>2</td>\n",
       "      <td>N/A</td>\n",
       "      <td>N/A</td>\n",
       "    </tr>\n",
       "    <tr>\n",
       "      <th>84457</th>\n",
       "      <td>rc</td>\n",
       "      <td>N/A</td>\n",
       "      <td>head</td>\n",
       "      <td>N/A</td>\n",
       "      <td>N/A</td>\n",
       "    </tr>\n",
       "    <tr>\n",
       "      <th>...</th>\n",
       "      <td>...</td>\n",
       "      <td>...</td>\n",
       "      <td>...</td>\n",
       "      <td>...</td>\n",
       "      <td>...</td>\n",
       "    </tr>\n",
       "    <tr>\n",
       "      <th>2256298</th>\n",
       "      <td>N/A</td>\n",
       "      <td>N/A</td>\n",
       "      <td>1</td>\n",
       "      <td>N/A</td>\n",
       "      <td>N/A</td>\n",
       "    </tr>\n",
       "    <tr>\n",
       "      <th>2256326</th>\n",
       "      <td>N/A</td>\n",
       "      <td>N/A</td>\n",
       "      <td>1</td>\n",
       "      <td>N/A</td>\n",
       "      <td>N/A</td>\n",
       "    </tr>\n",
       "    <tr>\n",
       "      <th>2256339</th>\n",
       "      <td>N/A</td>\n",
       "      <td>N/A</td>\n",
       "      <td>1</td>\n",
       "      <td>N/A</td>\n",
       "      <td>N/A</td>\n",
       "    </tr>\n",
       "    <tr>\n",
       "      <th>1602239</th>\n",
       "      <td>N/A</td>\n",
       "      <td>N/A</td>\n",
       "      <td>1</td>\n",
       "      <td>N/A</td>\n",
       "      <td>N/A</td>\n",
       "    </tr>\n",
       "    <tr>\n",
       "      <th>2256258</th>\n",
       "      <td>N/A</td>\n",
       "      <td>N/A</td>\n",
       "      <td>0</td>\n",
       "      <td>N/A</td>\n",
       "      <td>N/A</td>\n",
       "    </tr>\n",
       "  </tbody>\n",
       "</table>\n",
       "<p>9197 rows × 5 columns</p>\n",
       "</div>"
      ],
      "text/plain": [
       "        side class segment type group\n",
       "1343291   rc   N/A    head  N/A   N/A\n",
       "1332516   rc     s    head   49   N/A\n",
       "1402724   rc   N/A       3  N/A   N/A\n",
       "1462664   rc   N/A       2  N/A   N/A\n",
       "84457     rc   N/A    head  N/A   N/A\n",
       "...      ...   ...     ...  ...   ...\n",
       "2256298  N/A   N/A       1  N/A   N/A\n",
       "2256326  N/A   N/A       1  N/A   N/A\n",
       "2256339  N/A   N/A       1  N/A   N/A\n",
       "1602239  N/A   N/A       1  N/A   N/A\n",
       "2256258  N/A   N/A       0  N/A   N/A\n",
       "\n",
       "[9197 rows x 5 columns]"
      ]
     },
     "execution_count": 6,
     "metadata": {},
     "output_type": "execute_result"
    }
   ],
   "source": [
    "annotations"
   ]
  },
  {
   "cell_type": "markdown",
   "id": "376fce4a",
   "metadata": {},
   "source": [
    "With this table of annotations, we can make barplots to plot the number of neurons for certain categories"
   ]
  },
  {
   "cell_type": "code",
   "execution_count": 10,
   "id": "ec64fcf5",
   "metadata": {},
   "outputs": [
    {
     "data": {
      "image/png": "[encoded data removed]",
      "text/plain": [
       "<Figure size 432x288 with 1 Axes>"
      ]
     },
     "metadata": {
      "needs_background": "light"
     },
     "output_type": "display_data"
    }
   ],
   "source": [
    "#print number of neurons in each hemisphere\n",
    "hemis = {}\n",
    "hemi_list = list(annotations[\"side\"])\n",
    "for i in range(len(hemi_list)):\n",
    "    if hemi_list[i] == \"N/A\":\n",
    "        continue\n",
    "    \n",
    "    if hemi_list[i] not in hemis:\n",
    "        hemis[hemi_list[i]] = 1\n",
    "    \n",
    "    else:\n",
    "        hemis[hemi_list[i]] += 1\n",
    "sns.barplot(x=list(hemis.keys()), y=list(hemis.values())) \n",
    "plt.title(\"# of Neurons in each Hemisphere\")\n",
    "plt.xlabel(\"Hemisphere\")\n",
    "plt.ylabel(\"# of Neurons\")\n",
    "plt.savefig(path + \"/neuron_count_hems\")    \n",
    "    "
   ]
  },
  {
   "cell_type": "code",
   "execution_count": 11,
   "id": "1c22b534",
   "metadata": {},
   "outputs": [
    {
     "data": {
      "image/png": "[encoded data removed]",
      "text/plain": [
       "<Figure size 432x288 with 1 Axes>"
      ]
     },
     "metadata": {
      "needs_background": "light"
     },
     "output_type": "display_data"
    }
   ],
   "source": [
    "#print number of neurons for different types\n",
    "classes = {}\n",
    "class_list = list(annotations[\"class\"])\n",
    "\n",
    "for i in range(len(class_list)):\n",
    "    if class_list[i] == \"N/A\":\n",
    "        continue\n",
    "    \n",
    "    if class_list[i] not in classes:\n",
    "        classes[class_list[i]] = 1\n",
    "    \n",
    "    else:\n",
    "        classes[class_list[i]] += 1\n",
    "\n",
    "sns.barplot(x=list(classes.keys()), y=list(classes.values())) \n",
    "plt.title(\"# of Neurons for Different Classes\")\n",
    "plt.xlabel(\"Type\")\n",
    "plt.ylabel(\"# of Neurons\")\n",
    "plt.savefig(path + \"/neuron_count_classes\")"
   ]
  },
  {
   "cell_type": "code",
   "execution_count": 15,
   "id": "4e3ba42d",
   "metadata": {},
   "outputs": [
    {
     "data": {
      "image/png": "[encoded data removed]",
      "text/plain": [
       "<Figure size 432x288 with 1 Axes>"
      ]
     },
     "metadata": {
      "needs_background": "light"
     },
     "output_type": "display_data"
    }
   ],
   "source": [
    "#print number of neurons in different segments\n",
    "segments = {}\n",
    "segment_list = list(annotations[\"segment\"])\n",
    "\n",
    "for i in range(len(segment_list)):\n",
    "    if segment_list[i] == \"N/A\":\n",
    "        continue\n",
    "    \n",
    "    if segment_list[i] not in segments:\n",
    "        segments[segment_list[i]] = 1\n",
    "    \n",
    "    else:\n",
    "        segments[segment_list[i]] += 1\n",
    "\n",
    "sns.barplot(x=list(segments.keys()), y=list(segments.values())) \n",
    "plt.title(\"# of Neurons in Each Segment\")\n",
    "plt.xlabel(\"Segment\")\n",
    "plt.ylabel(\"# of Neurons\")\n",
    "plt.savefig(path + \"/neuron_count_segments\")"
   ]
  },
  {
   "cell_type": "code",
   "execution_count": 16,
   "id": "6cb7e4c1",
   "metadata": {},
   "outputs": [
    {
     "data": {
      "image/png": "[encoded data removed]",
      "text/plain": [
       "<Figure size 432x288 with 1 Axes>"
      ]
     },
     "metadata": {
      "needs_background": "light"
     },
     "output_type": "display_data"
    }
   ],
   "source": [
    "#print number of sensory neurons in each segment\n",
    "\n",
    "indices = []\n",
    "segment_sensory = {}\n",
    "for i in range(len(class_list)):\n",
    "    if(class_list[i] == \"s\"):\n",
    "        indices.append(i)\n",
    "\n",
    "for i in indices:\n",
    "    if segment_list[i] == \"N/A\":\n",
    "        continue\n",
    "    \n",
    "    if segment_list[i] not in segment_sensory:\n",
    "        segment_sensory[segment_list[i]] = 1\n",
    "    \n",
    "    else:\n",
    "        segment_sensory[segment_list[i]] += 1\n",
    "\n",
    "sns.barplot(x=list(segment_sensory.keys()), y=list(segment_sensory.values())) \n",
    "plt.title(\"# of Sensory Neurons in Each Segment\")\n",
    "plt.xlabel(\"Segment\")\n",
    "plt.ylabel(\"# of Sensory Neurons\")\n",
    "plt.savefig(path + \"/neuron_count_sensory_in_segments\")"
   ]
  },
  {
   "cell_type": "code",
   "execution_count": 18,
   "id": "268c3c31",
   "metadata": {},
   "outputs": [
    {
     "data": {
      "image/png": "[encoded data removed]",
      "text/plain": [
       "<Figure size 432x288 with 1 Axes>"
      ]
     },
     "metadata": {
      "needs_background": "light"
     },
     "output_type": "display_data"
    }
   ],
   "source": [
    "#print number of interneurons in each segment\n",
    "\n",
    "indices = []\n",
    "segment_inter = {}\n",
    "for i in range(len(class_list)):\n",
    "    if(class_list[i] == \"i\"):\n",
    "        indices.append(i)\n",
    "\n",
    "for i in indices:\n",
    "    if segment_list[i] == \"N/A\":\n",
    "        continue\n",
    "    \n",
    "    if segment_list[i] not in segment_inter:\n",
    "        segment_inter[segment_list[i]] = 1\n",
    "    \n",
    "    else:\n",
    "        segment_inter[segment_list[i]] += 1\n",
    "\n",
    "sns.barplot(x=list(segment_inter.keys()), y=list(segment_inter.values())) \n",
    "plt.title(\"# of Interneurons in Each Segment\")\n",
    "plt.xlabel(\"Segment\")\n",
    "plt.ylabel(\"# of Interneurons\")\n",
    "plt.savefig(path + \"/neuron_count_inter_in_segments\")"
   ]
  },
  {
   "cell_type": "code",
   "execution_count": 19,
   "id": "870d4145",
   "metadata": {},
   "outputs": [
    {
     "data": {
      "image/png": "[encoded data removed]",
      "text/plain": [
       "<Figure size 432x288 with 1 Axes>"
      ]
     },
     "metadata": {
      "needs_background": "light"
     },
     "output_type": "display_data"
    }
   ],
   "source": [
    "#print number of motorneurons in each segment\n",
    "\n",
    "indices = []\n",
    "segment_motor = {}\n",
    "for i in range(len(class_list)):\n",
    "    if(class_list[i] == \"m\"):\n",
    "        indices.append(i)\n",
    "\n",
    "for i in indices:\n",
    "    if segment_list[i] == \"N/A\":\n",
    "        continue\n",
    "    \n",
    "    if segment_list[i] not in segment_motor:\n",
    "        segment_motor[segment_list[i]] = 1\n",
    "    \n",
    "    else:\n",
    "        segment_motor[segment_list[i]] += 1\n",
    "        \n",
    "sns.barplot(x=list(segment_motor.keys()), y=list(segment_motor.values())) \n",
    "plt.title(\"# of Motorneurons in Each Segment\")\n",
    "plt.xlabel(\"Segment\")\n",
    "plt.ylabel(\"# of Motorneurons\")\n",
    "plt.savefig(path + \"/neuron_count_motor_in_segments\")"
   ]
  },
  {
   "cell_type": "code",
   "execution_count": 30,
   "id": "17953768",
   "metadata": {},
   "outputs": [
    {
     "data": {
      "text/html": [
       "<div>\n",
       "<style scoped>\n",
       "    .dataframe tbody tr th:only-of-type {\n",
       "        vertical-align: middle;\n",
       "    }\n",
       "\n",
       "    .dataframe tbody tr th {\n",
       "        vertical-align: top;\n",
       "    }\n",
       "\n",
       "    .dataframe thead th {\n",
       "        text-align: right;\n",
       "    }\n",
       "</style>\n",
       "<table border=\"1\" class=\"dataframe\">\n",
       "  <thead>\n",
       "    <tr style=\"text-align: right;\">\n",
       "      <th>celltype</th>\n",
       "      <th>count</th>\n",
       "    </tr>\n",
       "  </thead>\n",
       "  <tbody>\n",
       "    <tr>\n",
       "      <th>1</th>\n",
       "      <td>24</td>\n",
       "    </tr>\n",
       "    <tr>\n",
       "      <th>2</th>\n",
       "      <td>11</td>\n",
       "    </tr>\n",
       "    <tr>\n",
       "      <th>3</th>\n",
       "      <td>4</td>\n",
       "    </tr>\n",
       "    <tr>\n",
       "      <th>4</th>\n",
       "      <td>2</td>\n",
       "    </tr>\n",
       "    <tr>\n",
       "      <th>5</th>\n",
       "      <td>4</td>\n",
       "    </tr>\n",
       "    <tr>\n",
       "      <th>...</th>\n",
       "      <td>...</td>\n",
       "    </tr>\n",
       "    <tr>\n",
       "      <th>176</th>\n",
       "      <td>2</td>\n",
       "    </tr>\n",
       "    <tr>\n",
       "      <th>177</th>\n",
       "      <td>2</td>\n",
       "    </tr>\n",
       "    <tr>\n",
       "      <th>178</th>\n",
       "      <td>4</td>\n",
       "    </tr>\n",
       "    <tr>\n",
       "      <th>179</th>\n",
       "      <td>1</td>\n",
       "    </tr>\n",
       "    <tr>\n",
       "      <th>180</th>\n",
       "      <td>2</td>\n",
       "    </tr>\n",
       "  </tbody>\n",
       "</table>\n",
       "<p>180 rows × 1 columns</p>\n",
       "</div>"
      ],
      "text/plain": [
       "celltype  count\n",
       "1            24\n",
       "2            11\n",
       "3             4\n",
       "4             2\n",
       "5             4\n",
       "..          ...\n",
       "176           2\n",
       "177           2\n",
       "178           4\n",
       "179           1\n",
       "180           2\n",
       "\n",
       "[180 rows x 1 columns]"
      ]
     },
     "execution_count": 30,
     "metadata": {},
     "output_type": "execute_result"
    }
   ],
   "source": [
    "#number of neurons in each celltype (specified by paper)\n",
    "celltype_count = {}\n",
    "celltype_list = list(annotations[\"type\"])\n",
    "for i in range(len(celltype_list)):\n",
    "    if celltype_list[i] == \"N/A\":\n",
    "        continue\n",
    "    \n",
    "    if celltype_list[i] not in celltype_count:\n",
    "        celltype_count[celltype_list[i]] = 1\n",
    "    \n",
    "    else:\n",
    "        celltype_count[celltype_list[i]] += 1\n",
    "celltype_count = {int(k):v for k,v in celltype_count.items()}\n",
    "celltype_count = dict(sorted(celltype_count.items()))\n",
    "df = pd.DataFrame.from_dict(celltype_count, orient=\"index\", columns=[\"count\"])\n",
    "df = df.rename_axis('celltype', axis=1)\n",
    "df.to_csv(path + \"/neuron_count_neuronal_types.csv\")\n",
    "df"
   ]
  },
  {
   "cell_type": "code",
   "execution_count": 41,
   "id": "a651ef2f",
   "metadata": {},
   "outputs": [
    {
     "data": {
      "text/html": [
       "<div>\n",
       "<style scoped>\n",
       "    .dataframe tbody tr th:only-of-type {\n",
       "        vertical-align: middle;\n",
       "    }\n",
       "\n",
       "    .dataframe tbody tr th {\n",
       "        vertical-align: top;\n",
       "    }\n",
       "\n",
       "    .dataframe thead th {\n",
       "        text-align: right;\n",
       "    }\n",
       "</style>\n",
       "<table border=\"1\" class=\"dataframe\">\n",
       "  <thead>\n",
       "    <tr style=\"text-align: right;\">\n",
       "      <th>cellgroup</th>\n",
       "      <th>count</th>\n",
       "    </tr>\n",
       "  </thead>\n",
       "  <tbody>\n",
       "    <tr>\n",
       "      <th>1</th>\n",
       "      <td>111</td>\n",
       "    </tr>\n",
       "    <tr>\n",
       "      <th>2</th>\n",
       "      <td>55</td>\n",
       "    </tr>\n",
       "    <tr>\n",
       "      <th>3</th>\n",
       "      <td>114</td>\n",
       "    </tr>\n",
       "    <tr>\n",
       "      <th>4</th>\n",
       "      <td>36</td>\n",
       "    </tr>\n",
       "    <tr>\n",
       "      <th>5</th>\n",
       "      <td>55</td>\n",
       "    </tr>\n",
       "    <tr>\n",
       "      <th>6</th>\n",
       "      <td>25</td>\n",
       "    </tr>\n",
       "    <tr>\n",
       "      <th>7</th>\n",
       "      <td>114</td>\n",
       "    </tr>\n",
       "    <tr>\n",
       "      <th>8</th>\n",
       "      <td>27</td>\n",
       "    </tr>\n",
       "    <tr>\n",
       "      <th>9</th>\n",
       "      <td>76</td>\n",
       "    </tr>\n",
       "    <tr>\n",
       "      <th>10</th>\n",
       "      <td>66</td>\n",
       "    </tr>\n",
       "    <tr>\n",
       "      <th>11</th>\n",
       "      <td>12</td>\n",
       "    </tr>\n",
       "    <tr>\n",
       "      <th>12</th>\n",
       "      <td>68</td>\n",
       "    </tr>\n",
       "    <tr>\n",
       "      <th>13</th>\n",
       "      <td>31</td>\n",
       "    </tr>\n",
       "    <tr>\n",
       "      <th>14</th>\n",
       "      <td>6</td>\n",
       "    </tr>\n",
       "    <tr>\n",
       "      <th>15</th>\n",
       "      <td>88</td>\n",
       "    </tr>\n",
       "    <tr>\n",
       "      <th>16</th>\n",
       "      <td>61</td>\n",
       "    </tr>\n",
       "    <tr>\n",
       "      <th>17</th>\n",
       "      <td>52</td>\n",
       "    </tr>\n",
       "    <tr>\n",
       "      <th>18</th>\n",
       "      <td>15</td>\n",
       "    </tr>\n",
       "  </tbody>\n",
       "</table>\n",
       "</div>"
      ],
      "text/plain": [
       "cellgroup  count\n",
       "1            111\n",
       "2             55\n",
       "3            114\n",
       "4             36\n",
       "5             55\n",
       "6             25\n",
       "7            114\n",
       "8             27\n",
       "9             76\n",
       "10            66\n",
       "11            12\n",
       "12            68\n",
       "13            31\n",
       "14             6\n",
       "15            88\n",
       "16            61\n",
       "17            52\n",
       "18            15"
      ]
     },
     "execution_count": 41,
     "metadata": {},
     "output_type": "execute_result"
    }
   ],
   "source": [
    "#number of neurons in each cellgroup (specified by paper)\n",
    "cellgroup_count = {}\n",
    "cellgroup_list = list(annotations[\"group\"])\n",
    "for i in range(len(cellgroup_list)):\n",
    "    if cellgroup_list[i] == \"N/A\":\n",
    "        continue\n",
    "    if cellgroup_list[i] not in cellgroup_count:\n",
    "        cellgroup_count[cellgroup_list[i]] = 1\n",
    "    \n",
    "    else:\n",
    "        cellgroup_count[cellgroup_list[i]] += 1\n",
    "cellgroup_count = {int(k):v for k,v in cellgroup_count.items()}\n",
    "cellgroup_count = dict(sorted(cellgroup_count.items()))\n",
    "df = pd.DataFrame.from_dict(cellgroup_count, orient=\"index\", columns=[\"count\"])\n",
    "df = df.rename_axis('cellgroup', axis=1)\n",
    "df.to_csv(path + \"/neuron_count_groups.csv\")\n",
    "df"
   ]
  },
  {
   "cell_type": "code",
   "execution_count": 33,
   "id": "0f066441",
   "metadata": {},
   "outputs": [
    {
     "name": "stdout",
     "output_type": "stream",
     "text": [
      "                         count\n",
      "celltype_non_neuronal1       8\n",
      "celltype_non_neuronal2       1\n",
      "celltype_non_neuronal3      23\n",
      "celltype_non_neuronal4       6\n",
      "celltype_non_neuronal5       8\n",
      "...                        ...\n",
      "celltype_non_neuronal86      1\n",
      "celltype_non_neuronal87      1\n",
      "celltype_non_neuronal88      2\n",
      "celltype_non_neuronal89      2\n",
      "celltype_non_neuronal90   1079\n",
      "\n",
      "[90 rows x 1 columns]\n"
     ]
    }
   ],
   "source": [
    "#number of cells in each non-neuronal celltype (TODO: make this a category in annotations?)\n",
    "celltypes_non_neuronal = []\n",
    "num_neurons = []\n",
    "celltypes_non_neuronal_count = {}\n",
    "for i, digit in enumerate(range(1, 91)):\n",
    "   celltypes_non_neuronal.append(\"celltype_non_neuronal{}\".format(str(digit)))\n",
    "   num_neurons.append(len(pymaid.get_skids_by_annotation(celltypes_non_neuronal[i])))\n",
    "   celltypes_non_neuronal_count[celltypes_non_neuronal[i]] = [num_neurons[i]]\n",
    "\n",
    "df = pd.DataFrame.from_dict(celltypes_non_neuronal_count, orient=\"index\", columns=[\"count\"])\n",
    "df.to_csv(path + \"/neuron_count_non_neuronal_types\")\n",
    "print(df)"
   ]
  },
  {
   "cell_type": "code",
   "execution_count": null,
   "id": "d0734d45",
   "metadata": {},
   "outputs": [],
   "source": []
  }
 ],
 "metadata": {
  "kernelspec": {
   "display_name": "Python 3 (ipykernel)",
   "language": "python",
   "name": "python3"
  },
  "language_info": {
   "codemirror_mode": {
    "name": "ipython",
    "version": 3
   },
   "file_extension": ".py",
   "mimetype": "text/x-python",
   "name": "python",
   "nbconvert_exporter": "python",
   "pygments_lexer": "ipython3",
   "version": "3.9.13"
  },
  "vscode": {
   "interpreter": {
    "hash": "05d7d67d23128fda5aee0f3c1f672c43b20cf6e18657219ebf6bef6cae5bc4b2"
   }
  }
 },
 "nbformat": 4,
 "nbformat_minor": 5
}
