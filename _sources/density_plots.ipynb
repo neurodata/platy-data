{
 "cells": [
  {
   "cell_type": "markdown",
   "metadata": {},
   "source": [
    "In this notebook we will be getting densities of the adjacency matrices representing the neurons in different sections of the larva (hemispheres and segments). We will then test if there is any statistical significance between the densities across hemispheres/segments."
   ]
  },
  {
   "cell_type": "code",
   "execution_count": 56,
   "metadata": {},
   "outputs": [],
   "source": [
    "import os\n",
    "import pymaid\n",
    "import logging\n",
    "import pandas as pd\n",
    "import numpy as np\n",
    "import itertools\n",
    "import networkx as nx\n",
    "import seaborn as sns\n",
    "from itertools import chain, combinations\n",
    "from upsetplot import plot\n",
    "from matplotlib import pyplot as plt\n",
    "from networkx import from_numpy_array, from_pandas_adjacency, number_of_nodes, number_of_edges, density\n",
    "from graspologic.embed import AdjacencySpectralEmbed\n",
    "from graspologic.layouts import layout_tsne, layout_umap\n",
    "from graspologic.plot.plot import networkplot\n",
    "from graspologic.utils import is_fully_connected, largest_connected_component, is_symmetric, symmetrize\n",
    "from graspologic.inference import erdos_renyi_test\n",
    "from statsmodels.stats.proportion import proportion_confint"
   ]
  },
  {
   "cell_type": "code",
   "execution_count": 2,
   "metadata": {},
   "outputs": [
    {
     "name": "stderr",
     "output_type": "stream",
     "text": [
      "INFO  : Global CATMAID instance set. Caching is ON. (pymaid)\n"
     ]
    }
   ],
   "source": [
    "rm = pymaid.CatmaidInstance(\n",
    "    server=\"https://catmaid.jekelylab.ex.ac.uk/#\",\n",
    "    project_id=11,\n",
    "    api_token=None,\n",
    "    http_user=None,\n",
    "    http_password=None,\n",
    ")\n",
    "logging.getLogger(\"pymaid\").setLevel(logging.WARNING)\n",
    "pymaid.clear_cache()\n",
    "\n",
    "path = \"/Users/kareefullah/Desktop/neurodata/neurodata/platy-data/docs/outputs\""
   ]
  },
  {
   "cell_type": "markdown",
   "metadata": {},
   "source": [
    "Let us first import the annotations table that we made in the `data_summary_v2.ipynb` file"
   ]
  },
  {
   "cell_type": "code",
   "execution_count": 3,
   "metadata": {},
   "outputs": [
    {
     "data": {
      "text/html": [
       "<div>\n",
       "<style scoped>\n",
       "    .dataframe tbody tr th:only-of-type {\n",
       "        vertical-align: middle;\n",
       "    }\n",
       "\n",
       "    .dataframe tbody tr th {\n",
       "        vertical-align: top;\n",
       "    }\n",
       "\n",
       "    .dataframe thead th {\n",
       "        text-align: right;\n",
       "    }\n",
       "</style>\n",
       "<table border=\"1\" class=\"dataframe\">\n",
       "  <thead>\n",
       "    <tr style=\"text-align: right;\">\n",
       "      <th></th>\n",
       "      <th>skids</th>\n",
       "      <th>side</th>\n",
       "      <th>class</th>\n",
       "      <th>segment</th>\n",
       "      <th>type</th>\n",
       "      <th>group</th>\n",
       "    </tr>\n",
       "  </thead>\n",
       "  <tbody>\n",
       "    <tr>\n",
       "      <th>0</th>\n",
       "      <td>1343291</td>\n",
       "      <td>rc</td>\n",
       "      <td>NaN</td>\n",
       "      <td>head</td>\n",
       "      <td>NaN</td>\n",
       "      <td>NaN</td>\n",
       "    </tr>\n",
       "    <tr>\n",
       "      <th>1</th>\n",
       "      <td>1332516</td>\n",
       "      <td>rc</td>\n",
       "      <td>s</td>\n",
       "      <td>head</td>\n",
       "      <td>49.0</td>\n",
       "      <td>NaN</td>\n",
       "    </tr>\n",
       "    <tr>\n",
       "      <th>2</th>\n",
       "      <td>1402724</td>\n",
       "      <td>rc</td>\n",
       "      <td>NaN</td>\n",
       "      <td>3</td>\n",
       "      <td>NaN</td>\n",
       "      <td>NaN</td>\n",
       "    </tr>\n",
       "    <tr>\n",
       "      <th>3</th>\n",
       "      <td>1462664</td>\n",
       "      <td>rc</td>\n",
       "      <td>NaN</td>\n",
       "      <td>2</td>\n",
       "      <td>NaN</td>\n",
       "      <td>NaN</td>\n",
       "    </tr>\n",
       "    <tr>\n",
       "      <th>4</th>\n",
       "      <td>84457</td>\n",
       "      <td>rc</td>\n",
       "      <td>NaN</td>\n",
       "      <td>head</td>\n",
       "      <td>NaN</td>\n",
       "      <td>NaN</td>\n",
       "    </tr>\n",
       "    <tr>\n",
       "      <th>...</th>\n",
       "      <td>...</td>\n",
       "      <td>...</td>\n",
       "      <td>...</td>\n",
       "      <td>...</td>\n",
       "      <td>...</td>\n",
       "      <td>...</td>\n",
       "    </tr>\n",
       "    <tr>\n",
       "      <th>9192</th>\n",
       "      <td>2256298</td>\n",
       "      <td>NaN</td>\n",
       "      <td>NaN</td>\n",
       "      <td>1</td>\n",
       "      <td>NaN</td>\n",
       "      <td>NaN</td>\n",
       "    </tr>\n",
       "    <tr>\n",
       "      <th>9193</th>\n",
       "      <td>2256326</td>\n",
       "      <td>NaN</td>\n",
       "      <td>NaN</td>\n",
       "      <td>1</td>\n",
       "      <td>NaN</td>\n",
       "      <td>NaN</td>\n",
       "    </tr>\n",
       "    <tr>\n",
       "      <th>9194</th>\n",
       "      <td>2256339</td>\n",
       "      <td>NaN</td>\n",
       "      <td>NaN</td>\n",
       "      <td>1</td>\n",
       "      <td>NaN</td>\n",
       "      <td>NaN</td>\n",
       "    </tr>\n",
       "    <tr>\n",
       "      <th>9195</th>\n",
       "      <td>1602239</td>\n",
       "      <td>NaN</td>\n",
       "      <td>NaN</td>\n",
       "      <td>1</td>\n",
       "      <td>NaN</td>\n",
       "      <td>NaN</td>\n",
       "    </tr>\n",
       "    <tr>\n",
       "      <th>9196</th>\n",
       "      <td>2256258</td>\n",
       "      <td>NaN</td>\n",
       "      <td>NaN</td>\n",
       "      <td>0</td>\n",
       "      <td>NaN</td>\n",
       "      <td>NaN</td>\n",
       "    </tr>\n",
       "  </tbody>\n",
       "</table>\n",
       "<p>9197 rows × 6 columns</p>\n",
       "</div>"
      ],
      "text/plain": [
       "        skids side class segment  type  group\n",
       "0     1343291   rc   NaN    head   NaN    NaN\n",
       "1     1332516   rc     s    head  49.0    NaN\n",
       "2     1402724   rc   NaN       3   NaN    NaN\n",
       "3     1462664   rc   NaN       2   NaN    NaN\n",
       "4       84457   rc   NaN    head   NaN    NaN\n",
       "...       ...  ...   ...     ...   ...    ...\n",
       "9192  2256298  NaN   NaN       1   NaN    NaN\n",
       "9193  2256326  NaN   NaN       1   NaN    NaN\n",
       "9194  2256339  NaN   NaN       1   NaN    NaN\n",
       "9195  1602239  NaN   NaN       1   NaN    NaN\n",
       "9196  2256258  NaN   NaN       0   NaN    NaN\n",
       "\n",
       "[9197 rows x 6 columns]"
      ]
     },
     "execution_count": 3,
     "metadata": {},
     "output_type": "execute_result"
    }
   ],
   "source": [
    "annotations = pd.read_csv(path + \"/annotations.csv\", index_col=False)\n",
    "annotations"
   ]
  },
  {
   "cell_type": "markdown",
   "metadata": {},
   "source": [
    "For the left and right hemispheres, we make a dictionary where the keys are the annotations `\"l\"` and `\"r\"` and the values are the skids that have the respective annotation"
   ]
  },
  {
   "cell_type": "code",
   "execution_count": 4,
   "metadata": {},
   "outputs": [],
   "source": [
    "hemi_skid_dict = {\"l\": [], \"r\": []}\n",
    "hemi_list = list(annotations[\"side\"])\n",
    "skids_list = list(annotations[\"skids\"])\n",
    "for i in range(len(hemi_list)):\n",
    "    if hemi_list[i] == \"N/A\":\n",
    "        continue\n",
    "    \n",
    "    if hemi_list[i] in hemi_skid_dict:\n",
    "        hemi_skid_dict[hemi_list[i]].append(skids_list[i])"
   ]
  },
  {
   "cell_type": "markdown",
   "metadata": {},
   "source": [
    "For the segments, we make another dictionary where the keys are the annotations `\"head\" and \"pygidium\" and \"0\" and \"1\" and \"2\" and \"3\"` and the values are the skids that have the respective annotation"
   ]
  },
  {
   "cell_type": "code",
   "execution_count": 55,
   "metadata": {},
   "outputs": [],
   "source": [
    "#use annotations to get skids for segments\n",
    "segment_skid_dict = {\"head\": [], \"pygidium\": [], \"0\": [], \"1\": [], \"2\": [], \"3\": []}\n",
    "segment_list = list(annotations[\"segment\"])\n",
    "skids_list = list(annotations[\"skids\"])\n",
    "for i in range(len(segment_list)):\n",
    "    if segment_list[i] == \"N/A\":\n",
    "        continue\n",
    "    \n",
    "    if segment_list[i] in segment_skid_dict:\n",
    "        segment_skid_dict[segment_list[i]].append(skids_list[i])"
   ]
  },
  {
   "cell_type": "markdown",
   "metadata": {},
   "source": [
    "We now make respective adjacency matrices for the skids for each hemisphere"
   ]
  },
  {
   "cell_type": "code",
   "execution_count": 6,
   "metadata": {},
   "outputs": [],
   "source": [
    "#use for loops to avoid repetition\n",
    "df_hemis = {\"l\": None, \"r\": None}\n",
    "for key in hemi_skid_dict:\n",
    "    df_hemis[key] = pymaid.adjacency_matrix(hemi_skid_dict[key])"
   ]
  },
  {
   "cell_type": "markdown",
   "metadata": {},
   "source": [
    "We do the same here for the skids of the segments"
   ]
  },
  {
   "cell_type": "code",
   "execution_count": 7,
   "metadata": {},
   "outputs": [
    {
     "data": {
      "text/plain": [
       "6"
      ]
     },
     "execution_count": 7,
     "metadata": {},
     "output_type": "execute_result"
    }
   ],
   "source": [
    "df_segments = {\"head\": None, \"pygidium\": None, \"0\": None, \"1\": None, \"2\": None, \"3\": None}\n",
    "for key in segment_skid_dict:\n",
    "    df_segments[key] = pymaid.adjacency_matrix(segment_skid_dict[key])\n",
    "len(df_segments)"
   ]
  },
  {
   "cell_type": "markdown",
   "metadata": {},
   "source": [
    "We convert the adjacency matrices to networkx objects so we can get the density of these graphs"
   ]
  },
  {
   "cell_type": "code",
   "execution_count": 8,
   "metadata": {},
   "outputs": [],
   "source": [
    "nx_hemis = {\"l\": None, \"r\": None}\n",
    "for key in df_hemis:\n",
    "    nx_hemis[key] = from_pandas_adjacency(df_hemis[key], create_using=nx.DiGraph)"
   ]
  },
  {
   "cell_type": "code",
   "execution_count": 9,
   "metadata": {},
   "outputs": [],
   "source": [
    "nx_segments = {\"head\": None, \"pygidium\": None, \"0\": None, \"1\": None, \"2\": None, \"3\": None}\n",
    "for key in df_segments:\n",
    "    nx_segments[key] = from_pandas_adjacency(df_segments[key], create_using=nx.DiGraph)"
   ]
  },
  {
   "cell_type": "markdown",
   "metadata": {},
   "source": [
    "We then get the densities of these networkx graphs"
   ]
  },
  {
   "cell_type": "code",
   "execution_count": 10,
   "metadata": {},
   "outputs": [],
   "source": [
    "dens_hemis = {\"l\": None, \"r\": None}\n",
    "for key in nx_hemis:\n",
    "    dens_hemis[key] = density(nx_hemis[key])"
   ]
  },
  {
   "cell_type": "code",
   "execution_count": 11,
   "metadata": {},
   "outputs": [],
   "source": [
    "dens_segments = {\"head\": None, \"pygidium\": None, \"0\": None, \"1\": None, \"2\": None, \"3\": None}\n",
    "for key in nx_segments:\n",
    "    dens_segments[key] = density(nx_segments[key])"
   ]
  },
  {
   "cell_type": "markdown",
   "metadata": {},
   "source": [
    "We concatenate the dicts so we can get a barplot of all the dictionaries we have"
   ]
  },
  {
   "cell_type": "code",
   "execution_count": 12,
   "metadata": {},
   "outputs": [
    {
     "name": "stdout",
     "output_type": "stream",
     "text": [
      "{'l': 0.00016728286167760548, 'r': 0.0001874180633044924, 'head': 0.0005528938573921273, 'pygidium': 0.0011678584477269169, '0': 5.643282954207324e-05, '1': 0.0003931168979712669, '2': 0.00045572476791481427, '3': 0.00039734271850725756}\n"
     ]
    }
   ],
   "source": [
    "all_dicts = dens_hemis | dens_segments\n",
    "print(all_dicts)"
   ]
  },
  {
   "cell_type": "code",
   "execution_count": 13,
   "metadata": {},
   "outputs": [
    {
     "data": {
      "text/plain": [
       "[0.00016728286167760548,\n",
       " 0.0001874180633044924,\n",
       " 0.0005528938573921273,\n",
       " 0.0011678584477269169,\n",
       " 5.643282954207324e-05,\n",
       " 0.0003931168979712669,\n",
       " 0.00045572476791481427,\n",
       " 0.00039734271850725756]"
      ]
     },
     "execution_count": 13,
     "metadata": {},
     "output_type": "execute_result"
    }
   ],
   "source": [
    "labels = list(all_dicts.keys())\n",
    "densities = list(all_dicts.values())"
   ]
  },
  {
   "cell_type": "code",
   "execution_count": 14,
   "metadata": {},
   "outputs": [
    {
     "data": {
      "image/png": "[encoded data removed]",
      "text/plain": [
       "<Figure size 640x480 with 1 Axes>"
      ]
     },
     "metadata": {},
     "output_type": "display_data"
    }
   ],
   "source": [
    "sns.set_style(\"white\")\n",
    "sns.barplot(x=labels, y=densities) \n",
    "plt.title(\"Densities in different sections of the larva\")\n",
    "plt.xlabel(\"Section\")\n",
    "plt.ylabel(\"Density\")\n",
    "plt.savefig(path + \"/densities_sections\")"
   ]
  },
  {
   "cell_type": "markdown",
   "metadata": {},
   "source": [
    "Now we are interested in running the erdos-renyi test on left and right adjacency matrices, as well as on all the pairwise combinations of the adjs of the sections. To do this, we must first convert all of our adjs to numpy"
   ]
  },
  {
   "cell_type": "code",
   "execution_count": 15,
   "metadata": {},
   "outputs": [],
   "source": [
    "#convert pandas df to numpy\n",
    "np_hemis = {\"l\": None, \"r\": None}\n",
    "for key in df_hemis:\n",
    "    np_hemis[key] = df_hemis[key].to_numpy()"
   ]
  },
  {
   "cell_type": "code",
   "execution_count": 16,
   "metadata": {},
   "outputs": [],
   "source": [
    "#same for segments\n",
    "np_segments = {\"head\": None, \"pygidium\": None, \"0\": None, \"1\": None, \"2\": None, \"3\": None}\n",
    "for key in df_segments:\n",
    "    np_segments[key] = df_segments[key].to_numpy()"
   ]
  },
  {
   "cell_type": "markdown",
   "metadata": {},
   "source": [
    "Let's now run the test for the left and right hemisphere"
   ]
  },
  {
   "cell_type": "code",
   "execution_count": 17,
   "metadata": {},
   "outputs": [
    {
     "data": {
      "text/plain": [
       "1.124861758642002e-06"
      ]
     },
     "execution_count": 17,
     "metadata": {},
     "output_type": "execute_result"
    }
   ],
   "source": [
    "stat, pvalue, misc = erdos_renyi_test(np_hemis[\"l\"], np_hemis[\"r\"])\n",
    "pvalue"
   ]
  },
  {
   "cell_type": "markdown",
   "metadata": {},
   "source": [
    "We see that the pvalue is very small, which means that we reject the null hypothesis that the edge probability for the adj of the left hemisphere is not different from the edge probability of the adj of the right hemisphere"
   ]
  },
  {
   "cell_type": "markdown",
   "metadata": {},
   "source": [
    "The following methods will allow us to plot the density of the sections that we are interested in, as well as the pvalue after running the `erdos_renyi_test`"
   ]
  },
  {
   "cell_type": "code",
   "execution_count": 51,
   "metadata": {},
   "outputs": [],
   "source": [
    "def convert_pvalue_to_asterisks(pvalue):\n",
    "    if pvalue <= 0.0001:\n",
    "        return \"****\"\n",
    "    elif pvalue <= 0.001:\n",
    "        return \"***\"\n",
    "    elif pvalue <= 0.01:\n",
    "        return \"**\"\n",
    "    elif pvalue <= 0.05:\n",
    "        return \"*\"\n",
    "    return \"ns\""
   ]
  },
  {
   "cell_type": "code",
   "execution_count": 81,
   "metadata": {},
   "outputs": [],
   "source": [
    "def plot_density(pval, label1, label2, misc, ax=None, coverage=0.95):\n",
    "    if ax is None:\n",
    "        fig, ax = plt.subplots(1, 1, figsize=(4, 6))\n",
    "\n",
    "    n_possible_first = misc[\"possible1\"]\n",
    "    n_possible_second = misc[\"possible2\"]\n",
    "\n",
    "    density_first = misc[\"probability1\"]\n",
    "    density_second = misc[\"probability2\"]\n",
    "\n",
    "    n_edges_first = misc[\"observed1\"]\n",
    "    n_edges_second = misc[\"observed2\"]\n",
    "\n",
    "    first_lower, first_upper = proportion_confint(\n",
    "        n_edges_first, n_possible_first, alpha=1 - coverage, method=\"beta\"\n",
    "    )\n",
    "    second_lower, second_upper = proportion_confint(\n",
    "        n_edges_second, n_possible_second, alpha=1 - coverage, method=\"beta\"\n",
    "    )\n",
    "\n",
    "    halfwidth = 0.1\n",
    "    linewidth = 4\n",
    "    colors = sns.color_palette(\"Set2\")\n",
    "    palette = dict(zip([label1, label2], [colors[0], colors[1]]))\n",
    "\n",
    "    color = palette[label1]\n",
    "    x = 0\n",
    "    ax.plot(\n",
    "        [x - halfwidth, x + halfwidth],\n",
    "        [density_first, density_first],\n",
    "        color=color,\n",
    "        linewidth=linewidth,\n",
    "    )\n",
    "    ax.plot([x, x], [first_lower, first_upper], color=color, linewidth=linewidth)\n",
    "\n",
    "    color = palette[label2]\n",
    "    x = 1\n",
    "    ax.plot(\n",
    "        [x - halfwidth, x + halfwidth],\n",
    "        [density_second, density_second],\n",
    "        color=color,\n",
    "        linewidth=linewidth,\n",
    "    )\n",
    "    ax.plot([x, x], [second_lower, second_upper], color=color, linewidth=linewidth)\n",
    "\n",
    "    #yticks = [np.round(density_left, 4), np.round(density_right, 4)]\n",
    "    yticks = [density_first, density_second]\n",
    "    ax.set(\n",
    "        xlabel=\"Section\",\n",
    "        xticks=[0, 1],\n",
    "        xticklabels=[label1, label2],\n",
    "        xlim=(-0.5, 1.5),\n",
    "        yticks=yticks,\n",
    "        # ylim=(0, max(right_upper, left_upper) * 1.05),\n",
    "        ylabel=r\"Estimated density ($\\hat{p}$)\",\n",
    "        title=\"{} vs {}; pval: {}\".format(label1, label2, pvalue)\n",
    "    )\n",
    "    #hard\n",
    "    ax.plot([label1, label1, label2, label2], [second_upper+0.000005, 0.0002, 0.0002, second_upper+0.000005])\n",
    "    text = convert_pvalue_to_asterisks(pvalue)\n",
    "    #hard\n",
    "    ax.text(0.5, 0.0002+0.0000000001, text, ha='center', va='bottom')\n",
    "    labels = ax.get_xticklabels()\n",
    "    for label in labels:\n",
    "        text_string = label.get_text()\n",
    "        label.set_color(palette[text_string])\n",
    "    return ax.get_figure(), ax"
   ]
  },
  {
   "cell_type": "code",
   "execution_count": 82,
   "metadata": {},
   "outputs": [
    {
     "data": {
      "text/plain": [
       "(<Figure size 400x600 with 1 Axes>,\n",
       " <AxesSubplot:title={'center':'l vs r; pval: 1.124861758642002e-06'}, xlabel='Section', ylabel='Estimated density ($\\\\hat{p}$)'>)"
      ]
     },
     "execution_count": 82,
     "metadata": {},
     "output_type": "execute_result"
    },
    {
     "data": {
      "image/png": "[encoded data removed]",
      "text/plain": [
       "<Figure size 400x600 with 1 Axes>"
      ]
     },
     "metadata": {},
     "output_type": "display_data"
    }
   ],
   "source": [
    "plot_density(pvalue, list(np_hemis.keys())[0], list(np_hemis.keys())[1], misc)"
   ]
  }
 ],
 "metadata": {
  "kernelspec": {
   "display_name": "Python 3 (ipykernel)",
   "language": "python",
   "name": "python3"
  },
  "language_info": {
   "codemirror_mode": {
    "name": "ipython",
    "version": 3
   },
   "file_extension": ".py",
   "mimetype": "text/x-python",
   "name": "python",
   "nbconvert_exporter": "python",
   "pygments_lexer": "ipython3",
   "version": "3.9.13"
  },
  "vscode": {
   "interpreter": {
    "hash": "05d7d67d23128fda5aee0f3c1f672c43b20cf6e18657219ebf6bef6cae5bc4b2"
   }
  }
 },
 "nbformat": 4,
 "nbformat_minor": 2
}
