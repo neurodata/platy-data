{
 "cells": [
  {
   "cell_type": "code",
   "execution_count": 1,
   "metadata": {},
   "outputs": [
    {
     "name": "stdout",
     "output_type": "stream",
     "text": [
      "967\n",
      "967\n",
      "919\n",
      "919\n",
      "724\n",
      "724\n",
      "79\n",
      "79\n",
      "317\n",
      "317\n",
      "395\n",
      "395\n",
      "323\n",
      "323\n",
      "        skids   side    class   segment   type  group\n",
      "0     2015233   left  sensory      head  100.0    NaN\n",
      "1     1548290   left   muscle         1    NaN    NaN\n",
      "2     1318919   left  sensory      head   88.0   15.0\n",
      "3     2015241   left  sensory      head  100.0    NaN\n",
      "4     1769485  right  sensory       NaN    NaN    NaN\n",
      "...       ...    ...      ...       ...    ...    ...\n",
      "2028  1597423  right   muscle  pygidium    NaN    NaN\n",
      "2029  1302513   left  sensory      head    NaN    NaN\n",
      "2030  1671147  right    motor         1  165.0    NaN\n",
      "2031  1376251   left    inter      head    NaN    NaN\n",
      "2032  1048573   left    inter         3    NaN    NaN\n",
      "\n",
      "[2033 rows x 6 columns]\n"
     ]
    }
   ],
   "source": [
    "import numpy as np\n",
    "import matplotlib.pyplot as plt\n",
    "import pandas as pd\n",
    "import pymaid\n",
    "import logging\n",
    "import random\n",
    "from graspologic.match import graph_match\n",
    "from graspologic.simulations import er_np\n",
    "from graspologic.utils import is_unweighted\n",
    "from pkg.platy import _get_folder, load_connectome_normal_lcc_annotations_v2, load_connectome_normal_lcc_annotations_v3, load_connectome_lcc_normal_adj, load_left_adj, load_right_adj, load_left_adj_labels_with_class_v2, load_right_adj_labels_with_class_v2, load_head_adj_labels_with_class_v2, load_pygidium_adj_labels_with_class_v2, load_0_adj, load_1_adj_labels_with_class_v2, load_2_adj_labels_with_class_v2, load_3_adj_labels_with_class_v2, load_left_adj_labels_with_class_v3, load_right_adj_labels_with_class_v3"
   ]
  },
  {
   "cell_type": "code",
   "execution_count": 2,
   "metadata": {},
   "outputs": [
    {
     "name": "stdout",
     "output_type": "stream",
     "text": [
      "df1\n",
      "   L  R\n",
      "0  1  a\n",
      "1  2  b\n",
      "2  4  d\n",
      "3  3  c\n",
      "4  7  g\n",
      "5  6  f\n",
      "6  5  e\n",
      "7  8  h \n",
      "\n",
      "df2\n",
      "    L  R\n",
      "0   1  a\n",
      "1   3  d\n",
      "2  12  h\n",
      "3   9  r\n",
      "4  10  f\n",
      "5  11  u\n",
      "6   2  b\n",
      "7   4  w\n",
      "8   6  q\n",
      "9   5  c\n"
     ]
    }
   ],
   "source": [
    "#treat df1 as the true/nadine pairs, and the columns of df2 as the extracted left and right indexes from the left and right adjacencies\n",
    "df1 = pd.DataFrame({'L': [1, 2, 4, 3, 7, 6, 5, 8], 'R': [\"a\", \"b\", \"d\", \"c\", \"g\", \"f\", \"e\", \"h\"]})\n",
    "df2 = pd.DataFrame({'L': [1, 3, 12, 9, 10, 11, 2, 4, 6, 5], 'R': [\"a\", \"d\", \"h\", \"r\", \"f\", \"u\", \"b\", \"w\", \"q\", \"c\"]})\n",
    "print(\"df1\")\n",
    "print(df1, \"\\n\")\n",
    "print(\"df2\")\n",
    "print(df2)"
   ]
  },
  {
   "cell_type": "code",
   "execution_count": 3,
   "metadata": {},
   "outputs": [
    {
     "name": "stdout",
     "output_type": "stream",
     "text": [
      "[1, 2, 4, 3, 6]\n",
      "['a', 'b', 'd', 'c', 'f']\n"
     ]
    }
   ],
   "source": [
    "#format df2 by initializing as I have done previously\n",
    "\n",
    "#grab the neurons that are paired in df1, and both neurons in that pair exist in the L and R column of df2 respectively\n",
    "L2_list = list(df2.L)\n",
    "R2_list = list(df2.R)\n",
    "\n",
    "L2_in_pair = []\n",
    "R2_in_pair = []\n",
    "\n",
    "for i in range(len(df1)):\n",
    "    if(df1.loc[i, \"L\"] in L2_list and df1.loc[i, \"R\"] in R2_list):\n",
    "        L2_in_pair.append(df1.loc[i, \"L\"])\n",
    "        R2_in_pair.append(df1.loc[i, \"R\"])\n",
    "\n",
    "print(L2_in_pair)\n",
    "print(R2_in_pair)"
   ]
  },
  {
   "cell_type": "code",
   "execution_count": 4,
   "metadata": {},
   "outputs": [
    {
     "name": "stdout",
     "output_type": "stream",
     "text": [
      "[ 9 11  5 12 10]\n",
      "['r' 'w' 'q' 'u' 'h']\n"
     ]
    }
   ],
   "source": [
    "from numpy.random import default_rng\n",
    "rng = default_rng()\n",
    "\n",
    "#grab the rest of the neurons in the L and R column of df2, and shuffle them\n",
    "L2_not_in_pair = np.array([val for val in L2_list if val not in L2_in_pair])\n",
    "R2_not_in_pair = np.array([val for val in R2_list if val not in R2_in_pair])\n",
    "\n",
    "#shuffle the lists\n",
    "rand_ind_left = rng.choice(len(L2_not_in_pair), size=len(L2_not_in_pair), replace=False)\n",
    "L2_not_in_pair_rand = L2_not_in_pair[rand_ind_left]\n",
    "\n",
    "rand_ind_right = rng.choice(len(R2_not_in_pair), size=len(R2_not_in_pair), replace=False)\n",
    "R2_not_in_pair_rand = R2_not_in_pair[rand_ind_right]\n",
    "\n",
    "print(L2_not_in_pair_rand)\n",
    "print(R2_not_in_pair_rand)"
   ]
  },
  {
   "cell_type": "code",
   "execution_count": 5,
   "metadata": {},
   "outputs": [
    {
     "data": {
      "text/html": [
       "<div>\n",
       "<style scoped>\n",
       "    .dataframe tbody tr th:only-of-type {\n",
       "        vertical-align: middle;\n",
       "    }\n",
       "\n",
       "    .dataframe tbody tr th {\n",
       "        vertical-align: top;\n",
       "    }\n",
       "\n",
       "    .dataframe thead th {\n",
       "        text-align: right;\n",
       "    }\n",
       "</style>\n",
       "<table border=\"1\" class=\"dataframe\">\n",
       "  <thead>\n",
       "    <tr style=\"text-align: right;\">\n",
       "      <th></th>\n",
       "      <th>skid-ID LEFT</th>\n",
       "      <th>skid-ID RIGHT</th>\n",
       "    </tr>\n",
       "  </thead>\n",
       "  <tbody>\n",
       "    <tr>\n",
       "      <th>0</th>\n",
       "      <td>1</td>\n",
       "      <td>a</td>\n",
       "    </tr>\n",
       "    <tr>\n",
       "      <th>1</th>\n",
       "      <td>2</td>\n",
       "      <td>b</td>\n",
       "    </tr>\n",
       "    <tr>\n",
       "      <th>2</th>\n",
       "      <td>4</td>\n",
       "      <td>d</td>\n",
       "    </tr>\n",
       "    <tr>\n",
       "      <th>3</th>\n",
       "      <td>3</td>\n",
       "      <td>c</td>\n",
       "    </tr>\n",
       "    <tr>\n",
       "      <th>4</th>\n",
       "      <td>6</td>\n",
       "      <td>f</td>\n",
       "    </tr>\n",
       "    <tr>\n",
       "      <th>5</th>\n",
       "      <td>9</td>\n",
       "      <td>r</td>\n",
       "    </tr>\n",
       "    <tr>\n",
       "      <th>6</th>\n",
       "      <td>11</td>\n",
       "      <td>w</td>\n",
       "    </tr>\n",
       "    <tr>\n",
       "      <th>7</th>\n",
       "      <td>5</td>\n",
       "      <td>q</td>\n",
       "    </tr>\n",
       "    <tr>\n",
       "      <th>8</th>\n",
       "      <td>12</td>\n",
       "      <td>u</td>\n",
       "    </tr>\n",
       "    <tr>\n",
       "      <th>9</th>\n",
       "      <td>10</td>\n",
       "      <td>h</td>\n",
       "    </tr>\n",
       "  </tbody>\n",
       "</table>\n",
       "</div>"
      ],
      "text/plain": [
       "   skid-ID LEFT skid-ID RIGHT\n",
       "0             1             a\n",
       "1             2             b\n",
       "2             4             d\n",
       "3             3             c\n",
       "4             6             f\n",
       "5             9             r\n",
       "6            11             w\n",
       "7             5             q\n",
       "8            12             u\n",
       "9            10             h"
      ]
     },
     "execution_count": 5,
     "metadata": {},
     "output_type": "execute_result"
    }
   ],
   "source": [
    "#concatenate the pairs and not pairs lists\n",
    "\n",
    "L2_to_match = np.append(L2_in_pair, L2_not_in_pair_rand, axis=0)\n",
    "R2_to_match = np.append(R2_in_pair, R2_not_in_pair_rand, axis=0)\n",
    "\n",
    "pairs = pd.DataFrame(list(zip(L2_to_match, R2_to_match)), columns = [\"skid-ID LEFT\", \"skid-ID RIGHT\"])\n",
    "pairs"
   ]
  },
  {
   "cell_type": "code",
   "execution_count": 9,
   "metadata": {},
   "outputs": [
    {
     "name": "stdout",
     "output_type": "stream",
     "text": [
      "   skid-ID LEFT skid-ID RIGHT\n",
      "0             1             r\n",
      "1             2             b\n",
      "2             4             d\n",
      "3             3             a\n",
      "4             6             c\n",
      "5             9             f\n",
      "6            11             w\n",
      "7             5             u\n",
      "8            12             h\n",
      "9            10             q\n"
     ]
    }
   ],
   "source": [
    "#simulate graph matching on these pairs, keep the second and third row intact but the others different\n",
    "right_list_after_matching = [\"r\", \"b\", \"d\", \"a\", \"c\", \"f\", \"w\", \"u\", \"h\", \"q\"]\n",
    "\n",
    "updated_pairs = pairs.copy()\n",
    "updated_pairs[\"skid-ID RIGHT\"] = right_list_after_matching\n",
    "print(updated_pairs)\n",
    "\n",
    "#should expect accuracy of 0.4"
   ]
  },
  {
   "cell_type": "code",
   "execution_count": 10,
   "metadata": {},
   "outputs": [
    {
     "name": "stdout",
     "output_type": "stream",
     "text": [
      "1    a\n",
      "2    b\n",
      "4    d\n",
      "3    c\n",
      "6    f\n",
      "dtype: object\n",
      "1    r\n",
      "2    b\n",
      "4    d\n",
      "3    a\n",
      "6    c\n",
      "dtype: object\n"
     ]
    },
    {
     "data": {
      "text/plain": [
       "0.4"
      ]
     },
     "execution_count": 10,
     "metadata": {},
     "output_type": "execute_result"
    }
   ],
   "source": [
    "#calcuate accuracy\n",
    "mask = updated_pairs[\"skid-ID LEFT\"].index < len(L2_in_pair)\n",
    "L2_to_consider = updated_pairs[\"skid-ID LEFT\"][mask]\n",
    "R2_to_consider = updated_pairs[\"skid-ID RIGHT\"][mask]\n",
    "\n",
    "matched_pairs_test = pd.Series(index = L2_to_consider.values, data = R2_to_consider.values)\n",
    "\n",
    "#find the R1 values that correspond to the L2_to_consider values\n",
    "R1_to_consider = df1.loc[df1[\"L\"].isin(L2_to_consider.values), \"R\"]\n",
    "\n",
    "true_pairs_test = pd.Series(index = L2_to_consider.values, data = R1_to_consider.values)\n",
    "\n",
    "print(true_pairs_test)\n",
    "print(matched_pairs_test)\n",
    "(matched_pairs_test == true_pairs_test).mean()"
   ]
  },
  {
   "cell_type": "code",
   "execution_count": null,
   "metadata": {},
   "outputs": [],
   "source": []
  }
 ],
 "metadata": {
  "kernelspec": {
   "display_name": "platy-data-EVeqgmAk-py3.9",
   "language": "python",
   "name": "python3"
  },
  "language_info": {
   "codemirror_mode": {
    "name": "ipython",
    "version": 3
   },
   "file_extension": ".py",
   "mimetype": "text/x-python",
   "name": "python",
   "nbconvert_exporter": "python",
   "pygments_lexer": "ipython3",
   "version": "3.9.17"
  },
  "orig_nbformat": 4
 },
 "nbformat": 4,
 "nbformat_minor": 2
}
