{
 "cells": [
  {
   "cell_type": "code",
   "execution_count": 41,
   "id": "851698a7",
   "metadata": {},
   "outputs": [],
   "source": [
    "import pymaid\n",
    "import numpy as np\n",
    "import matplotlib.pyplot as plt\n",
    "import pandas as pd\n",
    "import seaborn as sns\n",
    "import logging\n",
    "from itertools import chain, combinations"
   ]
  },
  {
   "cell_type": "code",
   "execution_count": 2,
   "id": "8d7ad64f",
   "metadata": {},
   "outputs": [
    {
     "name": "stderr",
     "output_type": "stream",
     "text": [
      "INFO  : Global CATMAID instance set. Caching is ON. (pymaid)\n"
     ]
    }
   ],
   "source": [
    "rm = pymaid.CatmaidInstance(\n",
    "    server=\"https://catmaid.jekelylab.ex.ac.uk/#\",\n",
    "    project_id=11,\n",
    "    api_token=None,\n",
    "    http_user=None,\n",
    "    http_password=None,\n",
    ")\n",
    "logging.getLogger(\"pymaid\").setLevel(logging.WARNING)\n",
    "pymaid.clear_cache()"
   ]
  },
  {
   "cell_type": "code",
   "execution_count": 6,
   "id": "781af822",
   "metadata": {},
   "outputs": [],
   "source": [
    "# category can be \"side\" or \"type\" or \"segment\"\n",
    "def get_labels_from_annotation(annot_list, category=\"side\"):\n",
    "    all_ids = pymaid.get_skids_by_annotation(annot_list)\n",
    "\n",
    "    # power set of annot_list reversed: first look at the intersections within annot_list then singular entries\n",
    "    annot_power = list(\n",
    "        chain.from_iterable(\n",
    "            combinations(annot_list, r) for r in range(len(annot_list) + 1)\n",
    "        )\n",
    "    )\n",
    "    annot_power.reverse()\n",
    "\n",
    "    id_annot = []\n",
    "    for annots in annot_power:\n",
    "\n",
    "        # skip the empty set in the power set\n",
    "        if len(annots) != 0:\n",
    "            ids = pymaid.get_skids_by_annotation(annots, intersect=True)\n",
    "\n",
    "            # assign label to every id\n",
    "            for id in ids:\n",
    "                if id in all_ids:\n",
    "                    # make sure cannot find id again if it is already added to id_list\n",
    "                    all_ids.remove(id)\n",
    "                    label = \"\"\n",
    "                    for annot in annots:\n",
    "                        if category == \"side\":\n",
    "                            label += annot[0]\n",
    "                        elif category == \"type\":\n",
    "                            label += annot[0].lower()\n",
    "                        elif category == \"segment\":\n",
    "                            label += annot[-1]\n",
    "                        else:\n",
    "                            raise ValueError(\"category is invalid\")\n",
    "                    id_annot.append([id, label])\n",
    "\n",
    "    id_annot = np.array(id_annot)\n",
    "\n",
    "    ids = id_annot[:, 0]\n",
    "    annots = id_annot[:, 1]\n",
    "    return pd.Series(index=ids, data=annots, name=category)"
   ]
  },
  {
   "cell_type": "code",
   "execution_count": 7,
   "id": "640ae99f",
   "metadata": {},
   "outputs": [
    {
     "data": {
      "application/vnd.jupyter.widget-view+json": {
       "model_id": "",
       "version_major": 2,
       "version_minor": 0
      },
      "text/plain": [
       "Fetching:   0%|          | 0/3 [00:00<?, ?it/s]"
      ]
     },
     "metadata": {},
     "output_type": "display_data"
    },
    {
     "data": {
      "application/vnd.jupyter.widget-view+json": {
       "model_id": "",
       "version_major": 2,
       "version_minor": 0
      },
      "text/plain": [
       "Fetching:   0%|          | 0/3 [00:00<?, ?it/s]"
      ]
     },
     "metadata": {},
     "output_type": "display_data"
    },
    {
     "data": {
      "application/vnd.jupyter.widget-view+json": {
       "model_id": "",
       "version_major": 2,
       "version_minor": 0
      },
      "text/plain": [
       "Fetching:   0%|          | 0/4 [00:00<?, ?it/s]"
      ]
     },
     "metadata": {},
     "output_type": "display_data"
    }
   ],
   "source": [
    "side_list = [\"left\", \"right\", \"center\"]\n",
    "type_list = [\"Sensory neuron\", \"interneuron\", \"motorneuron\"]\n",
    "segment_list = [\"segment_0\", \"segment_1\", \"segment_2\", \"segment_3\"]\n",
    "\n",
    "side_labels = get_labels_from_annotation(side_list, category=\"side\")\n",
    "type_labels = get_labels_from_annotation(type_list, category=\"type\")\n",
    "segment_labels = get_labels_from_annotation(segment_list, category=\"segment\")\n",
    "\n",
    "series_ids = [side_labels, type_labels, segment_labels]\n",
    "annotations = pd.concat(series_ids, axis=1, ignore_index=False, names=\"ID\").fillna(\n",
    "    \"N/A\"\n",
    ")"
   ]
  },
  {
   "cell_type": "code",
   "execution_count": 8,
   "id": "9b267929",
   "metadata": {},
   "outputs": [
    {
     "data": {
      "text/html": [
       "<div>\n",
       "<style scoped>\n",
       "    .dataframe tbody tr th:only-of-type {\n",
       "        vertical-align: middle;\n",
       "    }\n",
       "\n",
       "    .dataframe tbody tr th {\n",
       "        vertical-align: top;\n",
       "    }\n",
       "\n",
       "    .dataframe thead th {\n",
       "        text-align: right;\n",
       "    }\n",
       "</style>\n",
       "<table border=\"1\" class=\"dataframe\">\n",
       "  <thead>\n",
       "    <tr style=\"text-align: right;\">\n",
       "      <th></th>\n",
       "      <th>side</th>\n",
       "      <th>type</th>\n",
       "      <th>segment</th>\n",
       "    </tr>\n",
       "  </thead>\n",
       "  <tbody>\n",
       "    <tr>\n",
       "      <th>1343291</th>\n",
       "      <td>rc</td>\n",
       "      <td>N/A</td>\n",
       "      <td>N/A</td>\n",
       "    </tr>\n",
       "    <tr>\n",
       "      <th>1332516</th>\n",
       "      <td>rc</td>\n",
       "      <td>s</td>\n",
       "      <td>N/A</td>\n",
       "    </tr>\n",
       "    <tr>\n",
       "      <th>1402724</th>\n",
       "      <td>rc</td>\n",
       "      <td>N/A</td>\n",
       "      <td>3</td>\n",
       "    </tr>\n",
       "    <tr>\n",
       "      <th>1462664</th>\n",
       "      <td>rc</td>\n",
       "      <td>N/A</td>\n",
       "      <td>2</td>\n",
       "    </tr>\n",
       "    <tr>\n",
       "      <th>84457</th>\n",
       "      <td>rc</td>\n",
       "      <td>N/A</td>\n",
       "      <td>N/A</td>\n",
       "    </tr>\n",
       "    <tr>\n",
       "      <th>...</th>\n",
       "      <td>...</td>\n",
       "      <td>...</td>\n",
       "      <td>...</td>\n",
       "    </tr>\n",
       "    <tr>\n",
       "      <th>2256298</th>\n",
       "      <td>N/A</td>\n",
       "      <td>N/A</td>\n",
       "      <td>1</td>\n",
       "    </tr>\n",
       "    <tr>\n",
       "      <th>2256326</th>\n",
       "      <td>N/A</td>\n",
       "      <td>N/A</td>\n",
       "      <td>1</td>\n",
       "    </tr>\n",
       "    <tr>\n",
       "      <th>2256339</th>\n",
       "      <td>N/A</td>\n",
       "      <td>N/A</td>\n",
       "      <td>1</td>\n",
       "    </tr>\n",
       "    <tr>\n",
       "      <th>1602239</th>\n",
       "      <td>N/A</td>\n",
       "      <td>N/A</td>\n",
       "      <td>1</td>\n",
       "    </tr>\n",
       "    <tr>\n",
       "      <th>2256258</th>\n",
       "      <td>N/A</td>\n",
       "      <td>N/A</td>\n",
       "      <td>0</td>\n",
       "    </tr>\n",
       "  </tbody>\n",
       "</table>\n",
       "<p>9188 rows × 3 columns</p>\n",
       "</div>"
      ],
      "text/plain": [
       "        side type segment\n",
       "1343291   rc  N/A     N/A\n",
       "1332516   rc    s     N/A\n",
       "1402724   rc  N/A       3\n",
       "1462664   rc  N/A       2\n",
       "84457     rc  N/A     N/A\n",
       "...      ...  ...     ...\n",
       "2256298  N/A  N/A       1\n",
       "2256326  N/A  N/A       1\n",
       "2256339  N/A  N/A       1\n",
       "1602239  N/A  N/A       1\n",
       "2256258  N/A  N/A       0\n",
       "\n",
       "[9188 rows x 3 columns]"
      ]
     },
     "execution_count": 8,
     "metadata": {},
     "output_type": "execute_result"
    }
   ],
   "source": [
    "annotations"
   ]
  },
  {
   "cell_type": "code",
   "execution_count": 49,
   "id": "ec64fcf5",
   "metadata": {},
   "outputs": [
    {
     "name": "stdout",
     "output_type": "stream",
     "text": [
      "dict_keys(['rc', 'lc', 'lr', 'c', 'r', 'l'])\n",
      "dict_values([11, 10, 5, 2, 4498, 4635])\n"
     ]
    },
    {
     "data": {
      "text/plain": [
       "Text(0, 0.5, '# of Neurons')"
      ]
     },
     "execution_count": 49,
     "metadata": {},
     "output_type": "execute_result"
    },
    {
     "data": {
      "image/png": "[encoded data removed]",
      "text/plain": [
       "<Figure size 432x288 with 1 Axes>"
      ]
     },
     "metadata": {
      "needs_background": "light"
     },
     "output_type": "display_data"
    }
   ],
   "source": [
    "#print number of neurons in each hemisphere\n",
    "hemis = {}\n",
    "hemi_list = list(annotations[\"side\"])\n",
    "for i in range(len(hemi_list)):\n",
    "    if hemi_list[i] == \"N/A\":\n",
    "        continue\n",
    "    \n",
    "    if hemi_list[i] not in hemis:\n",
    "        hemis[hemi_list[i]] = 1\n",
    "    \n",
    "    else:\n",
    "        hemis[hemi_list[i]] += 1\n",
    "print(hemis.keys())\n",
    "print(hemis.values())\n",
    "sns.barplot(x=list(hemis.keys()), y=list(hemis.values())) \n",
    "plt.title(\"# of Neurons in each Hemisphere\")\n",
    "plt.xlabel(\"Hemisphere\")\n",
    "plt.ylabel(\"# of Neurons\")\n",
    "    \n",
    "    "
   ]
  },
  {
   "cell_type": "code",
   "execution_count": 51,
   "id": "1c22b534",
   "metadata": {},
   "outputs": [
    {
     "data": {
      "text/plain": [
       "Text(0, 0.5, '# of Neurons')"
      ]
     },
     "execution_count": 51,
     "metadata": {},
     "output_type": "execute_result"
    },
    {
     "data": {
      "image/png": "[encoded data removed]",
      "text/plain": [
       "<Figure size 432x288 with 1 Axes>"
      ]
     },
     "metadata": {
      "needs_background": "light"
     },
     "output_type": "display_data"
    }
   ],
   "source": [
    "#print number of neurons for different types\n",
    "types = {}\n",
    "type_list = list(annotations[\"type\"])\n",
    "\n",
    "for i in range(len(type_list)):\n",
    "    if type_list[i] == \"N/A\":\n",
    "        continue\n",
    "    \n",
    "    if type_list[i] not in types:\n",
    "        types[type_list[i]] = 1\n",
    "    \n",
    "    else:\n",
    "        types[type_list[i]] += 1\n",
    "\n",
    "sns.barplot(x=list(types.keys()), y=list(types.values())) \n",
    "plt.title(\"# of Neurons for Different Types\")\n",
    "plt.xlabel(\"Type\")\n",
    "plt.ylabel(\"# of Neurons\")"
   ]
  },
  {
   "cell_type": "code",
   "execution_count": 52,
   "id": "4e3ba42d",
   "metadata": {},
   "outputs": [
    {
     "data": {
      "text/plain": [
       "Text(0, 0.5, '# of Neurons')"
      ]
     },
     "execution_count": 52,
     "metadata": {},
     "output_type": "execute_result"
    },
    {
     "data": {
      "image/png": "[encoded data removed]",
      "text/plain": [
       "<Figure size 432x288 with 1 Axes>"
      ]
     },
     "metadata": {
      "needs_background": "light"
     },
     "output_type": "display_data"
    }
   ],
   "source": [
    "#print number of neurons in different segments\n",
    "segments = {}\n",
    "segment_list = list(annotations[\"segment\"])\n",
    "\n",
    "for i in range(len(segment_list)):\n",
    "    if segment_list[i] == \"N/A\":\n",
    "        continue\n",
    "    \n",
    "    if segment_list[i] not in segments:\n",
    "        segments[segment_list[i]] = 1\n",
    "    \n",
    "    else:\n",
    "        segments[segment_list[i]] += 1\n",
    "\n",
    "sns.barplot(x=list(segments.keys()), y=list(segments.values())) \n",
    "plt.title(\"# of Neurons in Each Segment\")\n",
    "plt.xlabel(\"Segment\")\n",
    "plt.ylabel(\"# of Neurons\")"
   ]
  },
  {
   "cell_type": "code",
   "execution_count": 60,
   "id": "6cb7e4c1",
   "metadata": {},
   "outputs": [
    {
     "data": {
      "text/plain": [
       "Text(0, 0.5, '# of Sensory Neurons')"
      ]
     },
     "execution_count": 60,
     "metadata": {},
     "output_type": "execute_result"
    },
    {
     "data": {
      "image/png": "[encoded data removed]",
      "text/plain": [
       "<Figure size 432x288 with 1 Axes>"
      ]
     },
     "metadata": {
      "needs_background": "light"
     },
     "output_type": "display_data"
    }
   ],
   "source": [
    "#print number of sensory neurons in each segment\n",
    "\n",
    "indices = []\n",
    "segment_sensory = {}\n",
    "for i in range(len(type_list)):\n",
    "    if(type_list[i] == \"s\"):\n",
    "        indices.append(i)\n",
    "\n",
    "for i in indices:\n",
    "    if segment_list[i] == \"N/A\":\n",
    "        continue\n",
    "    \n",
    "    if segment_list[i] not in segment_sensory:\n",
    "        segment_sensory[segment_list[i]] = 1\n",
    "    \n",
    "    else:\n",
    "        segment_sensory[segment_list[i]] += 1\n",
    "\n",
    "sns.barplot(x=list(segment_sensory.keys()), y=list(segment_sensory.values())) \n",
    "plt.title(\"# of Sensory Neurons in Each Segment\")\n",
    "plt.xlabel(\"Segment\")\n",
    "plt.ylabel(\"# of Sensory Neurons\")"
   ]
  },
  {
   "cell_type": "code",
   "execution_count": 54,
   "id": "268c3c31",
   "metadata": {},
   "outputs": [
    {
     "data": {
      "text/plain": [
       "Text(0, 0.5, '# of Interneurons')"
      ]
     },
     "execution_count": 54,
     "metadata": {},
     "output_type": "execute_result"
    },
    {
     "data": {
      "image/png": "[encoded data removed]",
      "text/plain": [
       "<Figure size 432x288 with 1 Axes>"
      ]
     },
     "metadata": {
      "needs_background": "light"
     },
     "output_type": "display_data"
    }
   ],
   "source": [
    "#print number of interneurons in each segment\n",
    "\n",
    "indices = []\n",
    "segment_inter = {}\n",
    "for i in range(len(type_list)):\n",
    "    if(type_list[i] == \"i\"):\n",
    "        indices.append(i)\n",
    "\n",
    "for i in indices:\n",
    "    if segment_list[i] == \"N/A\":\n",
    "        continue\n",
    "    \n",
    "    if segment_list[i] not in segment_inter:\n",
    "        segment_inter[segment_list[i]] = 1\n",
    "    \n",
    "    else:\n",
    "        segment_inter[segment_list[i]] += 1\n",
    "\n",
    "sns.barplot(x=list(segment_inter.keys()), y=list(segment_inter.values())) \n",
    "plt.title(\"# of Interneurons in Each Segment\")\n",
    "plt.xlabel(\"Segment\")\n",
    "plt.ylabel(\"# of Interneurons\")"
   ]
  },
  {
   "cell_type": "code",
   "execution_count": 56,
   "id": "870d4145",
   "metadata": {},
   "outputs": [
    {
     "data": {
      "text/plain": [
       "Text(0, 0.5, '# of Motorneurons')"
      ]
     },
     "execution_count": 56,
     "metadata": {},
     "output_type": "execute_result"
    },
    {
     "data": {
      "image/png": "[encoded data removed]",
      "text/plain": [
       "<Figure size 432x288 with 1 Axes>"
      ]
     },
     "metadata": {
      "needs_background": "light"
     },
     "output_type": "display_data"
    }
   ],
   "source": [
    "#print number of motorneurons in each segment\n",
    "\n",
    "indices = []\n",
    "segment_motor = {}\n",
    "for i in range(len(type_list)):\n",
    "    if(type_list[i] == \"m\"):\n",
    "        indices.append(i)\n",
    "\n",
    "for i in indices:\n",
    "    if segment_list[i] == \"N/A\":\n",
    "        continue\n",
    "    \n",
    "    if segment_list[i] not in segment_motor:\n",
    "        segment_motor[segment_list[i]] = 1\n",
    "    \n",
    "    else:\n",
    "        segment_motor[segment_list[i]] += 1\n",
    "        \n",
    "sns.barplot(x=list(segment_motor.keys()), y=list(segment_motor.values())) \n",
    "plt.title(\"# of Motorneurons in Each Segment\")\n",
    "plt.xlabel(\"Segment\")\n",
    "plt.ylabel(\"# of Motorneurons\")"
   ]
  },
  {
   "cell_type": "code",
   "execution_count": 57,
   "id": "51986742",
   "metadata": {},
   "outputs": [
    {
     "name": "stdout",
     "output_type": "stream",
     "text": [
      "              celltype1  celltype2  celltype3  celltype4  celltype5  \\\n",
      "# of neurons         24         11          4          2          4   \n",
      "\n",
      "              celltype6  celltype7  celltype8  celltype9  celltype10  ...  \\\n",
      "# of neurons          4          4          2          1           1  ...   \n",
      "\n",
      "              celltype171  celltype172  celltype173  celltype174  celltype175  \\\n",
      "# of neurons            4            2            4            2            2   \n",
      "\n",
      "              celltype176  celltype177  celltype178  celltype179  celltype180  \n",
      "# of neurons            2            2            4            1            2  \n",
      "\n",
      "[1 rows x 180 columns]\n"
     ]
    }
   ],
   "source": [
    "celltypes = []\n",
    "num_neurons = []\n",
    "celltypes_count = {}\n",
    "for i, digit in enumerate(range(1, 181)):\n",
    "   celltypes.append(\"celltype{}\".format(str(digit)))\n",
    "   num_neurons.append(len(pymaid.get_skids_by_annotation(celltypes[i])))\n",
    "   celltypes_count[celltypes[i]] = [num_neurons[i]]\n",
    "\n",
    "df = pd.DataFrame(celltypes_count, index=[\"# of neurons\"])\n",
    "print(df)"
   ]
  },
  {
   "cell_type": "code",
   "execution_count": 58,
   "id": "da55d053",
   "metadata": {},
   "outputs": [
    {
     "name": "stdout",
     "output_type": "stream",
     "text": [
      "              cellgroup1  cellgroup2  cellgroup3  cellgroup4  cellgroup5  \\\n",
      "# of neurons         111          55         114          37          55   \n",
      "\n",
      "              cellgroup6  cellgroup7  cellgroup8  cellgroup9  cellgroup10  \\\n",
      "# of neurons          25         114          27          76           66   \n",
      "\n",
      "              cellgroup11  cellgroup12  cellgroup13  cellgroup14  cellgroup15  \\\n",
      "# of neurons           12           68           32            6           88   \n",
      "\n",
      "              cellgroup16  cellgroup17  cellgroup18  \n",
      "# of neurons           61           52           15  \n"
     ]
    }
   ],
   "source": [
    "cellgroups = []\n",
    "num_neurons = []\n",
    "cellgroups_count = {}\n",
    "for i, digit in enumerate(range(1, 19)):\n",
    "   cellgroups.append(\"cellgroup{}\".format(str(digit)))\n",
    "   num_neurons.append(len(pymaid.get_skids_by_annotation(cellgroups[i])))\n",
    "   cellgroups_count[cellgroups[i]] = [num_neurons[i]]\n",
    "\n",
    "df = pd.DataFrame(cellgroups_count, index=[\"# of neurons\"])\n",
    "print(df)"
   ]
  },
  {
   "cell_type": "code",
   "execution_count": 59,
   "id": "0f066441",
   "metadata": {},
   "outputs": [
    {
     "name": "stdout",
     "output_type": "stream",
     "text": [
      "              celltype_non_neuronal1  celltype_non_neuronal2  \\\n",
      "# of neurons                       8                       1   \n",
      "\n",
      "              celltype_non_neuronal3  celltype_non_neuronal4  \\\n",
      "# of neurons                      23                       6   \n",
      "\n",
      "              celltype_non_neuronal5  celltype_non_neuronal6  \\\n",
      "# of neurons                       8                      34   \n",
      "\n",
      "              celltype_non_neuronal7  celltype_non_neuronal8  \\\n",
      "# of neurons                       4                      16   \n",
      "\n",
      "              celltype_non_neuronal9  celltype_non_neuronal10  ...  \\\n",
      "# of neurons                      24                        2  ...   \n",
      "\n",
      "              celltype_non_neuronal81  celltype_non_neuronal82  \\\n",
      "# of neurons                        8                        6   \n",
      "\n",
      "              celltype_non_neuronal83  celltype_non_neuronal84  \\\n",
      "# of neurons                        4                        4   \n",
      "\n",
      "              celltype_non_neuronal85  celltype_non_neuronal86  \\\n",
      "# of neurons                        6                        1   \n",
      "\n",
      "              celltype_non_neuronal87  celltype_non_neuronal88  \\\n",
      "# of neurons                        1                        2   \n",
      "\n",
      "              celltype_non_neuronal89  celltype_non_neuronal90  \n",
      "# of neurons                        2                     1079  \n",
      "\n",
      "[1 rows x 90 columns]\n"
     ]
    }
   ],
   "source": [
    "celltypes_non_neuronal = []\n",
    "num_neurons = []\n",
    "celltypes_non_neuronal_count = {}\n",
    "for i, digit in enumerate(range(1, 91)):\n",
    "   celltypes_non_neuronal.append(\"celltype_non_neuronal{}\".format(str(digit)))\n",
    "   num_neurons.append(len(pymaid.get_skids_by_annotation(celltypes_non_neuronal[i])))\n",
    "   celltypes_non_neuronal_count[celltypes_non_neuronal[i]] = [num_neurons[i]]\n",
    "\n",
    "df = pd.DataFrame(celltypes_non_neuronal_count, index=[\"# of neurons\"])\n",
    "print(df)"
   ]
  },
  {
   "cell_type": "code",
   "execution_count": null,
   "id": "7aee6a7f",
   "metadata": {},
   "outputs": [],
   "source": []
  }
 ],
 "metadata": {
  "kernelspec": {
   "display_name": "Python 3 (ipykernel)",
   "language": "python",
   "name": "python3"
  },
  "language_info": {
   "codemirror_mode": {
    "name": "ipython",
    "version": 3
   },
   "file_extension": ".py",
   "mimetype": "text/x-python",
   "name": "python",
   "nbconvert_exporter": "python",
   "pygments_lexer": "ipython3",
   "version": "3.9.13"
  }
 },
 "nbformat": 4,
 "nbformat_minor": 5
}
