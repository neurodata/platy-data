{
 "cells": [
  {
   "cell_type": "markdown",
   "metadata": {},
   "source": [
    "# Group Connection Testing"
   ]
  },
  {
   "cell_type": "code",
   "execution_count": 41,
   "metadata": {},
   "outputs": [],
   "source": [
    "import pymaid\n",
    "import logging\n",
    "import pandas as pd\n",
    "import numpy as np\n",
    "import csv\n",
    "import networkx as nx\n",
    "import itertools\n",
    "import seaborn as sns\n",
    "from networkx import from_pandas_adjacency\n",
    "from itertools import chain, combinations\n",
    "from matplotlib import pyplot as plt\n",
    "from collections import namedtuple\n",
    "from graspologic.inference import group_connection_test\n",
    "from pkg.platy import _get_folder, load_annotations"
   ]
  },
  {
   "cell_type": "code",
   "execution_count": 2,
   "metadata": {},
   "outputs": [
    {
     "name": "stderr",
     "output_type": "stream",
     "text": [
      "INFO  : Global CATMAID instance set. Caching is ON. (pymaid)\n"
     ]
    }
   ],
   "source": [
    "rm = pymaid.CatmaidInstance(\n",
    "    server=\"https://catmaid.jekelylab.ex.ac.uk/#\",\n",
    "    project_id=11,\n",
    "    api_token=None,\n",
    "    http_user=None,\n",
    "    http_password=None,\n",
    ")\n",
    "logging.getLogger(\"pymaid\").setLevel(logging.WARNING)\n",
    "pymaid.clear_cache()"
   ]
  },
  {
   "cell_type": "code",
   "execution_count": 4,
   "metadata": {},
   "outputs": [
    {
     "data": {
      "text/html": [
       "<div>\n",
       "<style scoped>\n",
       "    .dataframe tbody tr th:only-of-type {\n",
       "        vertical-align: middle;\n",
       "    }\n",
       "\n",
       "    .dataframe tbody tr th {\n",
       "        vertical-align: top;\n",
       "    }\n",
       "\n",
       "    .dataframe thead th {\n",
       "        text-align: right;\n",
       "    }\n",
       "</style>\n",
       "<table border=\"1\" class=\"dataframe\">\n",
       "  <thead>\n",
       "    <tr style=\"text-align: right;\">\n",
       "      <th></th>\n",
       "      <th>skids</th>\n",
       "      <th>side</th>\n",
       "      <th>class</th>\n",
       "      <th>segment</th>\n",
       "      <th>type</th>\n",
       "      <th>group</th>\n",
       "    </tr>\n",
       "  </thead>\n",
       "  <tbody>\n",
       "    <tr>\n",
       "      <th>0</th>\n",
       "      <td>1343291</td>\n",
       "      <td>rc</td>\n",
       "      <td>NaN</td>\n",
       "      <td>head</td>\n",
       "      <td>NaN</td>\n",
       "      <td>NaN</td>\n",
       "    </tr>\n",
       "    <tr>\n",
       "      <th>1</th>\n",
       "      <td>1332516</td>\n",
       "      <td>rc</td>\n",
       "      <td>s</td>\n",
       "      <td>head</td>\n",
       "      <td>49.0</td>\n",
       "      <td>NaN</td>\n",
       "    </tr>\n",
       "    <tr>\n",
       "      <th>2</th>\n",
       "      <td>1402724</td>\n",
       "      <td>rc</td>\n",
       "      <td>NaN</td>\n",
       "      <td>3</td>\n",
       "      <td>NaN</td>\n",
       "      <td>NaN</td>\n",
       "    </tr>\n",
       "    <tr>\n",
       "      <th>3</th>\n",
       "      <td>1462664</td>\n",
       "      <td>rc</td>\n",
       "      <td>NaN</td>\n",
       "      <td>2</td>\n",
       "      <td>NaN</td>\n",
       "      <td>NaN</td>\n",
       "    </tr>\n",
       "    <tr>\n",
       "      <th>4</th>\n",
       "      <td>84457</td>\n",
       "      <td>rc</td>\n",
       "      <td>NaN</td>\n",
       "      <td>head</td>\n",
       "      <td>NaN</td>\n",
       "      <td>NaN</td>\n",
       "    </tr>\n",
       "    <tr>\n",
       "      <th>...</th>\n",
       "      <td>...</td>\n",
       "      <td>...</td>\n",
       "      <td>...</td>\n",
       "      <td>...</td>\n",
       "      <td>...</td>\n",
       "      <td>...</td>\n",
       "    </tr>\n",
       "    <tr>\n",
       "      <th>9192</th>\n",
       "      <td>2256298</td>\n",
       "      <td>NaN</td>\n",
       "      <td>NaN</td>\n",
       "      <td>1</td>\n",
       "      <td>NaN</td>\n",
       "      <td>NaN</td>\n",
       "    </tr>\n",
       "    <tr>\n",
       "      <th>9193</th>\n",
       "      <td>2256326</td>\n",
       "      <td>NaN</td>\n",
       "      <td>NaN</td>\n",
       "      <td>1</td>\n",
       "      <td>NaN</td>\n",
       "      <td>NaN</td>\n",
       "    </tr>\n",
       "    <tr>\n",
       "      <th>9194</th>\n",
       "      <td>2256339</td>\n",
       "      <td>NaN</td>\n",
       "      <td>NaN</td>\n",
       "      <td>1</td>\n",
       "      <td>NaN</td>\n",
       "      <td>NaN</td>\n",
       "    </tr>\n",
       "    <tr>\n",
       "      <th>9195</th>\n",
       "      <td>1602239</td>\n",
       "      <td>NaN</td>\n",
       "      <td>NaN</td>\n",
       "      <td>1</td>\n",
       "      <td>NaN</td>\n",
       "      <td>NaN</td>\n",
       "    </tr>\n",
       "    <tr>\n",
       "      <th>9196</th>\n",
       "      <td>2256258</td>\n",
       "      <td>NaN</td>\n",
       "      <td>NaN</td>\n",
       "      <td>0</td>\n",
       "      <td>NaN</td>\n",
       "      <td>NaN</td>\n",
       "    </tr>\n",
       "  </tbody>\n",
       "</table>\n",
       "<p>9197 rows × 6 columns</p>\n",
       "</div>"
      ],
      "text/plain": [
       "        skids side class segment  type  group\n",
       "0     1343291   rc   NaN    head   NaN    NaN\n",
       "1     1332516   rc     s    head  49.0    NaN\n",
       "2     1402724   rc   NaN       3   NaN    NaN\n",
       "3     1462664   rc   NaN       2   NaN    NaN\n",
       "4       84457   rc   NaN    head   NaN    NaN\n",
       "...       ...  ...   ...     ...   ...    ...\n",
       "9192  2256298  NaN   NaN       1   NaN    NaN\n",
       "9193  2256326  NaN   NaN       1   NaN    NaN\n",
       "9194  2256339  NaN   NaN       1   NaN    NaN\n",
       "9195  1602239  NaN   NaN       1   NaN    NaN\n",
       "9196  2256258  NaN   NaN       0   NaN    NaN\n",
       "\n",
       "[9197 rows x 6 columns]"
      ]
     },
     "execution_count": 4,
     "metadata": {},
     "output_type": "execute_result"
    }
   ],
   "source": [
    "folder = _get_folder()\n",
    "annotations = load_annotations()\n",
    "annotations"
   ]
  },
  {
   "cell_type": "code",
   "execution_count": 32,
   "metadata": {},
   "outputs": [],
   "source": [
    "#get skids for l, r, head, pygidium, 0, 1, 2, 3\n",
    "\n",
    "skids_hemis = {\"l\": [], \"r\": []}\n",
    "skids_segs = {\"head\": [], \"pygidium\": [], \"0\": [], \"1\": [], \"2\": [], \"3\": []}\n",
    "labels_hemis = {\"l\": [], \"r\": []}\n",
    "labels_segs = {\"head\": [], \"pygidium\": [], \"0\": [], \"1\": [], \"2\": [], \"3\": []}\n",
    "poss_labels = [\"s\", \"i\", \"m\"]\n",
    "\n",
    "#add skids and labels for hemis\n",
    "for key in skids_hemis:\n",
    "    for i in range(len(annotations[\"skids\"])):\n",
    "        if(annotations[\"side\"][i]==key and annotations[\"class\"][i] in poss_labels):\n",
    "            skids_hemis[key].append(annotations[\"skids\"][i])\n",
    "            labels_hemis[key].append(annotations[\"class\"][i])\n",
    "\n",
    "#add skids and labels for segments\n",
    "for key in skids_segs:\n",
    "    for i in range(len(annotations[\"skids\"])):\n",
    "        if(annotations[\"segment\"][i]==key and annotations[\"class\"][i] in poss_labels):\n",
    "            skids_segs[key].append(annotations[\"skids\"][i])\n",
    "            labels_segs[key].append(annotations[\"class\"][i])"
   ]
  },
  {
   "cell_type": "code",
   "execution_count": 40,
   "metadata": {},
   "outputs": [
    {
     "name": "stdout",
     "output_type": "stream",
     "text": [
      "['s', 'i', 'm', 's', 'i', 'm']\n",
      "[506, 669, 115, 468, 704, 127]\n",
      "['l', 'l', 'l', 'r', 'r', 'r']\n"
     ]
    },
    {
     "data": {
      "text/html": [
       "<div>\n",
       "<style scoped>\n",
       "    .dataframe tbody tr th:only-of-type {\n",
       "        vertical-align: middle;\n",
       "    }\n",
       "\n",
       "    .dataframe tbody tr th {\n",
       "        vertical-align: top;\n",
       "    }\n",
       "\n",
       "    .dataframe thead th {\n",
       "        text-align: right;\n",
       "    }\n",
       "</style>\n",
       "<table border=\"1\" class=\"dataframe\">\n",
       "  <thead>\n",
       "    <tr style=\"text-align: right;\">\n",
       "      <th></th>\n",
       "      <th>class</th>\n",
       "      <th>count</th>\n",
       "      <th>side</th>\n",
       "    </tr>\n",
       "  </thead>\n",
       "  <tbody>\n",
       "    <tr>\n",
       "      <th>0</th>\n",
       "      <td>s</td>\n",
       "      <td>506</td>\n",
       "      <td>l</td>\n",
       "    </tr>\n",
       "    <tr>\n",
       "      <th>1</th>\n",
       "      <td>i</td>\n",
       "      <td>669</td>\n",
       "      <td>l</td>\n",
       "    </tr>\n",
       "    <tr>\n",
       "      <th>2</th>\n",
       "      <td>m</td>\n",
       "      <td>115</td>\n",
       "      <td>l</td>\n",
       "    </tr>\n",
       "    <tr>\n",
       "      <th>3</th>\n",
       "      <td>s</td>\n",
       "      <td>468</td>\n",
       "      <td>r</td>\n",
       "    </tr>\n",
       "    <tr>\n",
       "      <th>4</th>\n",
       "      <td>i</td>\n",
       "      <td>704</td>\n",
       "      <td>r</td>\n",
       "    </tr>\n",
       "    <tr>\n",
       "      <th>5</th>\n",
       "      <td>m</td>\n",
       "      <td>127</td>\n",
       "      <td>r</td>\n",
       "    </tr>\n",
       "  </tbody>\n",
       "</table>\n",
       "</div>"
      ],
      "text/plain": [
       "  class  count side\n",
       "0     s    506    l\n",
       "1     i    669    l\n",
       "2     m    115    l\n",
       "3     s    468    r\n",
       "4     i    704    r\n",
       "5     m    127    r"
      ]
     },
     "execution_count": 40,
     "metadata": {},
     "output_type": "execute_result"
    }
   ],
   "source": [
    "#comparison for hemis\n",
    "count_hemis = {\"l\" : {\"s\": 0, \"i\": 0, \"m\": 0}, \"r\": {\"s\": 0, \"i\": 0, \"m\": 0}}\n",
    "\n",
    "for key in count_hemis:\n",
    "    for i in range(len(labels_hemis[key])):\n",
    "        count_hemis[key][labels_hemis[key][i]] += 1\n",
    "\n",
    "# get the lists of number of skids for y values, x values are the keys\n",
    "keys = poss_labels # \"s\", \"i\", \"m\"\n",
    "list_counts = []\n",
    "class_label = []\n",
    "hemi_label = []\n",
    "for key in count_hemis:\n",
    "    for inner_key in count_hemis[key]:\n",
    "        class_label.append(inner_key)\n",
    "        list_counts.append(count_hemis[key][inner_key])\n",
    "        hemi_label.append(key)\n",
    "\n",
    "\n",
    "label_counts = list(zip(class_label, list_counts, hemi_label))\n",
    "df = pd.DataFrame(label_counts, columns = [\"class\", \"count\", \"side\"])"
   ]
  },
  {
   "cell_type": "code",
   "execution_count": 42,
   "metadata": {},
   "outputs": [
    {
     "data": {
      "text/plain": [
       "<AxesSubplot:xlabel='class', ylabel='count'>"
      ]
     },
     "execution_count": 42,
     "metadata": {},
     "output_type": "execute_result"
    },
    {
     "data": {
      "image/png": "[encoded data removed]",
      "text/plain": [
       "<Figure size 640x480 with 1 Axes>"
      ]
     },
     "metadata": {},
     "output_type": "display_data"
    }
   ],
   "source": [
    "sns.set(style=\"white\")\n",
    "sns.barplot(x=\"class\", y=\"count\", hue=\"side\", data=df)"
   ]
  },
  {
   "cell_type": "code",
   "execution_count": 6,
   "metadata": {},
   "outputs": [],
   "source": [
    "skids_left = pymaid.get_skids_by_annotation(\"left\")\n",
    "skids_right = pymaid.get_skids_by_annotation(\"right\")\n",
    "skids_head = pymaid.get_skids_by_annotation(\"head\")\n",
    "skids_pygidium = pymaid.get_skids_by_annotation(\"pygidium\")\n",
    "skids_0 = pymaid.get_skids_by_annotation(\"segment_0\")\n",
    "skids_1 = pymaid.get_skids_by_annotation(\"segment_1\")\n",
    "skids_2 = pymaid.get_skids_by_annotation(\"segment_2\")\n",
    "skids_3 = pymaid.get_skids_by_annotation(\"segment_3\")"
   ]
  },
  {
   "cell_type": "code",
   "execution_count": 7,
   "metadata": {},
   "outputs": [],
   "source": [
    "#don't think i need this\n",
    "df_left = pymaid.adjacency_matrix(skids_left)\n",
    "df_right = pymaid.adjacency_matrix(skids_right)\n",
    "df_head = pymaid.adjacency_matrix(skids_head)\n",
    "df_pygidium = pymaid.adjacency_matrix(skids_pygidium)\n",
    "df_0 = pymaid.adjacency_matrix(skids_0)\n",
    "df_1 = pymaid.adjacency_matrix(skids_1)\n",
    "df_2 = pymaid.adjacency_matrix(skids_2)\n",
    "df_3 = pymaid.adjacency_matrix(skids_3)"
   ]
  },
  {
   "cell_type": "code",
   "execution_count": 8,
   "metadata": {},
   "outputs": [],
   "source": [
    "skids_sensory = pymaid.get_skids_by_annotation(\"Sensory neuron\")\n",
    "skids_inter = pymaid.get_skids_by_annotation(\"interneuron\")\n",
    "skids_motor = pymaid.get_skids_by_annotation(\"motorneuron\")"
   ]
  },
  {
   "cell_type": "code",
   "execution_count": 9,
   "metadata": {},
   "outputs": [],
   "source": [
    "def class_labels(skids, skids_sensory, skids_inter, skids_motor):\n",
    "    new_skids = []\n",
    "    labels = []\n",
    "    for i, skid in enumerate(skids):\n",
    "        if skid in skids_sensory:\n",
    "            labels.append(\"s\")\n",
    "            new_skids.append(skid)\n",
    "        elif skid in skids_inter:\n",
    "            labels.append(\"i\")\n",
    "            new_skids.append(skid)\n",
    "        elif skid in skids_motor:\n",
    "            labels.append(\"m\")\n",
    "            new_skids.append(skid)\n",
    "\n",
    "    return new_skids, labels"
   ]
  },
  {
   "cell_type": "code",
   "execution_count": 10,
   "metadata": {},
   "outputs": [
    {
     "data": {
      "text/plain": [
       "91"
      ]
     },
     "execution_count": 10,
     "metadata": {},
     "output_type": "execute_result"
    }
   ],
   "source": [
    "left_new, left_labels = class_labels(skids_left, skids_sensory, skids_inter, skids_motor)\n",
    "right_new, right_labels = class_labels(skids_right, skids_sensory, skids_inter, skids_motor)\n",
    "head_new, head_labels = class_labels(skids_head, skids_sensory, skids_inter, skids_motor)\n",
    "pygidium_new, pygidium_labels = class_labels(skids_pygidium, skids_sensory, skids_inter, skids_motor)\n",
    "seg0_new, seg0_labels = class_labels(skids_0, skids_sensory, skids_inter, skids_motor)\n",
    "seg1_new, seg1_labels = class_labels(skids_1, skids_sensory, skids_inter, skids_motor)\n",
    "seg2_new, seg2_labels = class_labels(skids_2, skids_sensory, skids_inter, skids_motor)\n",
    "seg3_new, seg3_labels = class_labels(skids_3, skids_sensory, skids_inter, skids_motor)\n",
    "len(seg0_new)"
   ]
  },
  {
   "cell_type": "code",
   "execution_count": 11,
   "metadata": {},
   "outputs": [],
   "source": [
    "df_left = pymaid.adjacency_matrix(left_new)\n",
    "df_right = pymaid.adjacency_matrix(right_new)\n",
    "df_head = pymaid.adjacency_matrix(head_new)\n",
    "df_pygidium = pymaid.adjacency_matrix(pygidium_new)\n",
    "df_0 = pymaid.adjacency_matrix(seg0_new)\n",
    "df_1 = pymaid.adjacency_matrix(seg1_new)\n",
    "df_2 = pymaid.adjacency_matrix(seg2_new)\n",
    "df_3 = pymaid.adjacency_matrix(seg3_new)"
   ]
  },
  {
   "cell_type": "code",
   "execution_count": 12,
   "metadata": {},
   "outputs": [],
   "source": [
    "left_adj = df_left.to_numpy()\n",
    "right_adj = df_right.to_numpy()\n",
    "head_adj = df_head.to_numpy()\n",
    "pygidium_adj = df_pygidium.to_numpy()\n",
    "seg0_adj = df_0.to_numpy()\n",
    "seg1_adj = df_1.to_numpy()\n",
    "seg2_adj = df_2.to_numpy()\n",
    "seg3_adj = df_3.to_numpy()"
   ]
  },
  {
   "cell_type": "code",
   "execution_count": 13,
   "metadata": {},
   "outputs": [
    {
     "data": {
      "text/plain": [
       "28"
      ]
     },
     "execution_count": 13,
     "metadata": {},
     "output_type": "execute_result"
    }
   ],
   "source": [
    "all_adjs = [left_adj, right_adj, head_adj, pygidium_adj, seg0_adj, seg1_adj, seg2_adj, seg3_adj]\n",
    "pairwise_adjs = list(itertools.combinations(all_adjs, 2))\n",
    "len(pairwise_adjs)"
   ]
  },
  {
   "cell_type": "code",
   "execution_count": 15,
   "metadata": {},
   "outputs": [
    {
     "data": {
      "text/plain": [
       "0.012503805183485778"
      ]
     },
     "execution_count": 15,
     "metadata": {},
     "output_type": "execute_result"
    }
   ],
   "source": [
    "stat, pval, misc = group_connection_test(left_adj, right_adj, left_labels, right_labels)\n",
    "pval"
   ]
  }
 ],
 "metadata": {
  "kernelspec": {
   "display_name": "Python 3.9.13 ('platy-data-EVeqgmAk-py3.9')",
   "language": "python",
   "name": "python3"
  },
  "language_info": {
   "codemirror_mode": {
    "name": "ipython",
    "version": 3
   },
   "file_extension": ".py",
   "mimetype": "text/x-python",
   "name": "python",
   "nbconvert_exporter": "python",
   "pygments_lexer": "ipython3",
   "version": "3.9.13"
  },
  "orig_nbformat": 4,
  "vscode": {
   "interpreter": {
    "hash": "05d7d67d23128fda5aee0f3c1f672c43b20cf6e18657219ebf6bef6cae5bc4b2"
   }
  }
 },
 "nbformat": 4,
 "nbformat_minor": 2
}
