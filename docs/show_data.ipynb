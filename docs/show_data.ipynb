{
 "cells": [
  {
   "cell_type": "code",
   "execution_count": 9,
   "metadata": {},
   "outputs": [],
   "source": [
    "import datetime\n",
    "import time\n",
    "\n",
    "import matplotlib.pyplot as plt\n",
    "import numpy as np\n",
    "import seaborn as sns\n",
    "\n",
    "# from giskard.plot import adjplot, scattermap\n",
    "from graspologic.embed import AdjacencySpectralEmbed\n",
    "from graspologic.plot import networkplot\n",
    "from matplotlib.patheffects import Normal, Stroke\n",
    "\n",
    "\"\"\"\n",
    "from pkg.data import (\n",
    "    load_maggot_graph,\n",
    "    load_network_palette,\n",
    "    load_node_palette,\n",
    "    load_unmatched,\n",
    ")\n",
    "\"\"\"\n",
    "# from pkg.io import get_environment_variables\n",
    "# from pkg.io import glue as default_glue\n",
    "# from pkg.io import savefig\n",
    "# from pkg.plot import set_theme\n",
    "from pkg.platy import (\n",
    "    load_1_adj_labels,\n",
    "    load_2_adj_labels,\n",
    "    load_3_adj_labels,\n",
    "    load_head_adj_labels,\n",
    "    load_pygidium_adj_labels,\n",
    "    load_left_adj_labels,\n",
    "    load_right_adj_labels,\n",
    ")\n",
    "from scipy.cluster import hierarchy\n",
    "from umap import UMAP\n",
    "rng = np.random.default_rng(8888)"
   ]
  },
  {
   "cell_type": "code",
   "execution_count": 2,
   "metadata": {},
   "outputs": [],
   "source": [
    "#load adjs in\n",
    "left_adj, _ = load_left_adj_labels()\n",
    "right_adj, _ = load_right_adj_labels()\n",
    "head_adj, _ = load_head_adj_labels()\n",
    "pyg_adj, _ = load_pygidium_adj_labels()\n",
    "adj_1, _ = load_1_adj_labels()\n",
    "adj_2, _ = load_2_adj_labels()\n",
    "adj_3, _ = load_3_adj_labels()"
   ]
  },
  {
   "cell_type": "code",
   "execution_count": null,
   "metadata": {},
   "outputs": [],
   "source": [
    "#make dicts for each set of node\n",
    "left_nodes = {}\n",
    "right_nodes = {}\n",
    "head_nodes = {}\n",
    "pyg_nodes = {}\n",
    "nodes_1 = {}\n",
    "nodes_2 = {}\n",
    "nodes_3 = {}"
   ]
  },
  {
   "cell_type": "code",
   "execution_count": 6,
   "metadata": {},
   "outputs": [],
   "source": [
    "left_adj = np.array(left_adj)\n",
    "right_adj = np.array(right_adj)\n",
    "head_adj = np.array(head_adj)\n",
    "pyg_adj = np.array(pyg_adj)\n",
    "adj_1 = np.array(adj_1)\n",
    "adj_2 = np.array(adj_2)\n",
    "adj_3 = np.array(adj_3)"
   ]
  },
  {
   "cell_type": "code",
   "execution_count": 7,
   "metadata": {},
   "outputs": [],
   "source": [
    "#ase\n",
    "ase = AdjacencySpectralEmbed(n_components=24, check_lcc=False, concat=True)\n",
    "\n",
    "ase_embedding_left = ase.fit_transform(left_adj)\n",
    "ase_embedding_right = ase.fit_transform(right_adj)\n",
    "ase_embedding_head = ase.fit_transform(head_adj)\n",
    "ase_embedding_pyg = ase.fit_transform(pyg_adj)\n",
    "ase_embedding_1 = ase.fit_transform(adj_1)\n",
    "ase_embedding_2 = ase.fit_transform(adj_2)\n",
    "ase_embedding_3 = ase.fit_transform(adj_3)"
   ]
  },
  {
   "cell_type": "code",
   "execution_count": 12,
   "metadata": {},
   "outputs": [
    {
     "name": "stderr",
     "output_type": "stream",
     "text": [
      "/Users/kareefullah/Library/Caches/pypoetry/virtualenvs/platy-data-EVeqgmAk-py3.9/lib/python3.9/site-packages/umap/umap_.py:2344: UserWarning: n_neighbors is larger than the dataset size; truncating to X.shape[0] - 1\n",
      "  warn(\n"
     ]
    }
   ],
   "source": [
    "umapper = UMAP(\n",
    "    n_components=2,\n",
    "    n_neighbors=64,\n",
    "    min_dist=0.8,\n",
    "    metric=\"cosine\",\n",
    "    random_state=rng.integers(np.iinfo(np.int32).max),\n",
    ")\n",
    "umap_embedding_left = umapper.fit_transform(ase_embedding_left)\n",
    "umap_embedding_right = umapper.fit_transform(ase_embedding_right)\n",
    "umap_embedding_head = umapper.fit_transform(ase_embedding_head)\n",
    "umap_embedding_pyg = umapper.fit_transform(ase_embedding_pyg)\n",
    "umap_embedding_1 = umapper.fit_transform(ase_embedding_1)\n",
    "umap_embedding_2 = umapper.fit_transform(ase_embedding_2)\n",
    "umap_embedding_3 = umapper.fit_transform(ase_embedding_3)"
   ]
  }
 ],
 "metadata": {
  "kernelspec": {
   "display_name": "Python 3.9.14 ('platy-data-EVeqgmAk-py3.9')",
   "language": "python",
   "name": "python3"
  },
  "language_info": {
   "codemirror_mode": {
    "name": "ipython",
    "version": 3
   },
   "file_extension": ".py",
   "mimetype": "text/x-python",
   "name": "python",
   "nbconvert_exporter": "python",
   "pygments_lexer": "ipython3",
   "version": "3.9.14 (main, Sep  6 2022, 23:29:09) \n[Clang 13.1.6 (clang-1316.0.21.2.5)]"
  },
  "orig_nbformat": 4,
  "vscode": {
   "interpreter": {
    "hash": "05d7d67d23128fda5aee0f3c1f672c43b20cf6e18657219ebf6bef6cae5bc4b2"
   }
  }
 },
 "nbformat": 4,
 "nbformat_minor": 2
}
