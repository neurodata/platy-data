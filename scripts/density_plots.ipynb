{
 "cells": [
  {
   "cell_type": "code",
   "execution_count": 19,
   "metadata": {},
   "outputs": [],
   "source": [
    "import os\n",
    "import pymaid\n",
    "import logging\n",
    "import pandas as pd\n",
    "import numpy as np\n",
    "import networkx as nx\n",
    "import seaborn as sns\n",
    "from itertools import chain, combinations\n",
    "from upsetplot import plot\n",
    "from matplotlib import pyplot as plt\n",
    "from networkx import from_numpy_array, from_pandas_adjacency, number_of_nodes, number_of_edges, density\n",
    "from graspologic.embed import AdjacencySpectralEmbed\n",
    "from graspologic.layouts import layout_tsne, layout_umap\n",
    "from graspologic.plot.plot import networkplot\n",
    "from graspologic.utils import is_fully_connected, largest_connected_component, is_symmetric, symmetrize"
   ]
  },
  {
   "cell_type": "code",
   "execution_count": 3,
   "metadata": {},
   "outputs": [
    {
     "name": "stderr",
     "output_type": "stream",
     "text": [
      "INFO  : Global CATMAID instance set. Caching is ON. (pymaid)\n"
     ]
    }
   ],
   "source": [
    "rm = pymaid.CatmaidInstance(\n",
    "    server=\"https://catmaid.jekelylab.ex.ac.uk/#\",\n",
    "    project_id=11,\n",
    "    api_token=None,\n",
    "    http_user=None,\n",
    "    http_password=None,\n",
    ")\n",
    "logging.getLogger(\"pymaid\").setLevel(logging.WARNING)\n",
    "pymaid.clear_cache()\n",
    "\n",
    "path = \"/Users/kareefullah/Desktop/neurodata/neurodata/platy-data/docs/outputs\""
   ]
  },
  {
   "cell_type": "code",
   "execution_count": 8,
   "metadata": {},
   "outputs": [],
   "source": [
    "skids_left = pymaid.get_skids_by_annotation(\"left\")\n",
    "skids_right = pymaid.get_skids_by_annotation(\"right\")\n",
    "skids_head = pymaid.get_skids_by_annotation(\"head\")\n",
    "skids_pygidium = pymaid.get_skids_by_annotation(\"pygidium\")\n",
    "skids_0 = pymaid.get_skids_by_annotation(\"segment_0\")\n",
    "skids_1 = pymaid.get_skids_by_annotation(\"segment_1\")\n",
    "skids_2 = pymaid.get_skids_by_annotation(\"segment_2\")\n",
    "skids_3 = pymaid.get_skids_by_annotation(\"segment_3\")"
   ]
  },
  {
   "cell_type": "code",
   "execution_count": 12,
   "metadata": {},
   "outputs": [],
   "source": [
    "df_left = pymaid.adjacency_matrix(skids_left)\n",
    "df_right = pymaid.adjacency_matrix(skids_right)\n",
    "df_head = pymaid.adjacency_matrix(skids_head)\n",
    "df_pygidium = pymaid.adjacency_matrix(skids_pygidium)\n",
    "df_0 = pymaid.adjacency_matrix(skids_0)\n",
    "df_1 = pymaid.adjacency_matrix(skids_1)\n",
    "df_2 = pymaid.adjacency_matrix(skids_2)\n",
    "df_3 = pymaid.adjacency_matrix(skids_3)"
   ]
  },
  {
   "cell_type": "code",
   "execution_count": 13,
   "metadata": {},
   "outputs": [],
   "source": [
    "nx_left = from_pandas_adjacency(df_left, create_using=nx.DiGraph)\n",
    "nx_right = from_pandas_adjacency(df_right, create_using=nx.DiGraph)\n",
    "nx_head = from_pandas_adjacency(df_head, create_using=nx.DiGraph)\n",
    "nx_pygidium = from_pandas_adjacency(df_pygidium, create_using=nx.DiGraph)\n",
    "nx_0 = from_pandas_adjacency(df_0, create_using=nx.DiGraph)\n",
    "nx_1 = from_pandas_adjacency(df_1, create_using=nx.DiGraph)\n",
    "nx_2 = from_pandas_adjacency(df_2, create_using=nx.DiGraph)\n",
    "nx_3 = from_pandas_adjacency(df_3, create_using=nx.DiGraph)"
   ]
  },
  {
   "cell_type": "code",
   "execution_count": 17,
   "metadata": {},
   "outputs": [],
   "source": [
    "dens_left = density(nx_left)\n",
    "dens_right = density(nx_right)\n",
    "dens_head = density(nx_head)\n",
    "dens_pygidium = density(nx_pygidium)\n",
    "dens_0 = density(nx_0)\n",
    "dens_1 = density(nx_1)\n",
    "dens_2 = density(nx_2)\n",
    "dens_3 = density(nx_3)"
   ]
  },
  {
   "cell_type": "code",
   "execution_count": 21,
   "metadata": {},
   "outputs": [],
   "source": [
    "labels = [\"left\", \"right\", \"head\", \"pygidium\", \"0\", \"1\", \"2\", \"3\"]\n",
    "densities = [dens_left, dens_right, dens_head, dens_pygidium, dens_0, dens_1, dens_2, dens_3]\n"
   ]
  },
  {
   "cell_type": "code",
   "execution_count": 30,
   "metadata": {},
   "outputs": [
    {
     "data": {
      "image/png": "[encoded data removed]",
      "text/plain": [
       "<Figure size 432x288 with 1 Axes>"
      ]
     },
     "metadata": {},
     "output_type": "display_data"
    }
   ],
   "source": [
    "sns.set_style(\"white\")\n",
    "sns.barplot(x=labels, y=densities) \n",
    "\n",
    "plt.title(\"Densities in different sections of the larva\")\n",
    "plt.xlabel(\"Section\")\n",
    "plt.ylabel(\"Density\")\n",
    "plt.savefig(path + \"/densities_sections\")"
   ]
  }
 ],
 "metadata": {
  "kernelspec": {
   "display_name": "Python 3.9.13 ('platy-data-EVeqgmAk-py3.9')",
   "language": "python",
   "name": "python3"
  },
  "language_info": {
   "codemirror_mode": {
    "name": "ipython",
    "version": 3
   },
   "file_extension": ".py",
   "mimetype": "text/x-python",
   "name": "python",
   "nbconvert_exporter": "python",
   "pygments_lexer": "ipython3",
   "version": "3.9.13"
  },
  "orig_nbformat": 4,
  "vscode": {
   "interpreter": {
    "hash": "05d7d67d23128fda5aee0f3c1f672c43b20cf6e18657219ebf6bef6cae5bc4b2"
   }
  }
 },
 "nbformat": 4,
 "nbformat_minor": 2
}
